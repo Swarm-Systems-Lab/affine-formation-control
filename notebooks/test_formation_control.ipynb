{
 "cells": [
  {
   "cell_type": "code",
   "execution_count": null,
   "metadata": {},
   "outputs": [],
   "source": [
    "\"\"\"\n",
    "# Copyright (C) 2024 Jesús Bautista Villar <jesbauti20@gmail.com>\n",
    "\"\"\"\n",
    "!python3 -V || python -V"
   ]
  },
  {
   "cell_type": "code",
   "execution_count": null,
   "metadata": {},
   "outputs": [],
   "source": [
    "import os\n",
    "import sys\n",
    "from tqdm import tqdm\n",
    "\n",
    "# Algebra (Numerical computation)\n",
    "import numpy as np\n",
    "\n",
    "# -------------------------------------------------------------------------------------\n",
    "\n",
    "# Swarm Systems Lab PySimUtils\n",
    "from ssl_simulator.visualization import set_paper_parameters\n",
    "\n",
    "set_paper_parameters(16)\n",
    "\n",
    "# Python project to path \n",
    "module_path = os.path.abspath(os.path.join('..'))\n",
    "if module_path not in sys.path:\n",
    "    sys.path.append(module_path)\n",
    "\n",
    "import afc"
   ]
  },
  {
   "cell_type": "markdown",
   "metadata": {},
   "source": [
    "## Formations in $\\mathbb{C}^1$ - Complex laplacian "
   ]
  },
  {
   "cell_type": "markdown",
   "metadata": {},
   "source": [
    "### Square"
   ]
  },
  {
   "cell_type": "code",
   "execution_count": null,
   "metadata": {},
   "outputs": [],
   "source": [
    "## Parameters #####\n",
    "Z = ((1,2), (2,3), (3,4), (4,1))\n",
    "p_star = [0-1j, 1+0j, 0+1j, -1+0j] # square\n",
    "p0 = [-10-1j, 4-2j, 0+4j, -0.5+0.5j]\n",
    "tf = 4\n",
    "h = 5\n",
    "kappa = 1\n",
    "\n",
    "## Generate the simulation frame #####\n",
    "args = {\"Z\":Z, \"p_star\":p_star, \"p0\":p0, \"tf\":tf, \"h\":h, \"kappa\":kappa, \"p1\":(1 + 2j)}\n",
    "sim_fr = afc.ComplexSimulator(**args)"
   ]
  },
  {
   "cell_type": "code",
   "execution_count": null,
   "metadata": {},
   "outputs": [],
   "source": [
    "## Launch the simulation and plot #####\n",
    "sim_fr.set_velocity(1, 0, 0, 0.5)\n",
    "\n",
    "sim_fr.numerical_simulation()\n",
    "sim_fr.plot()"
   ]
  },
  {
   "cell_type": "markdown",
   "metadata": {},
   "source": [
    "### Line"
   ]
  },
  {
   "cell_type": "code",
   "execution_count": null,
   "metadata": {},
   "outputs": [],
   "source": [
    "## Parameters #####\n",
    "Z = ((1,2), (2,3), (3,4), (4,1))\n",
    "p_star = [-2+0j, -1+0j, 1+0j, 2+0j] # square\n",
    "p0 = [-10-1j, 4-2j, 0+4j, -0.5+0.5j]\n",
    "tf = 5\n",
    "h = 1\n",
    "kappa = 1\n",
    "\n",
    "## Generate the simulation frame #####\n",
    "args = {\"Z\":Z, \"p_star\":p_star, \"p0\":p0, \"tf\":tf, \"h\":h, \"kappa\":kappa, \"p1\":-2}\n",
    "sim_fr = afc.ComplexSimulator(**args)"
   ]
  },
  {
   "cell_type": "code",
   "execution_count": null,
   "metadata": {},
   "outputs": [],
   "source": [
    "## Launch the simulation and plot #####\n",
    "sim_fr.set_velocity(0, 0, 0, 1)\n",
    "\n",
    "sim_fr.numerical_simulation()\n",
    "sim_fr.plot()"
   ]
  },
  {
   "cell_type": "markdown",
   "metadata": {},
   "source": [
    "## Affine formations in $R^2$"
   ]
  },
  {
   "cell_type": "markdown",
   "metadata": {},
   "source": [
    "### Square"
   ]
  },
  {
   "cell_type": "code",
   "execution_count": null,
   "metadata": {},
   "outputs": [],
   "source": [
    "## Parameters #####\n",
    "Z = ((1,2), (1,3), (2,3), (2,4), (3,4), (4,1))\n",
    "p_star = [[-1,-1], [-1,1], [1,1], [1,-1]] # square\n",
    "p0 = [[-10,-3], [-5,-2], [10,4], [0,-5]]\n",
    "tf = 2\n",
    "h = 4\n",
    "kappa=0.01\n",
    "\n",
    "## Generate the simulation frame #####\n",
    "args = {\"Z\":Z, \"p_star\":p_star, \"p0\":p0, \"tf\":tf, \"h\":h, \"kappa\":kappa}\n",
    "sim_fr = afc.AffineSimulator(**args)"
   ]
  },
  {
   "cell_type": "code",
   "execution_count": null,
   "metadata": {},
   "outputs": [],
   "source": [
    "## Set a desired velocity vector stack (v_f^*) #####\n",
    "vx = 0\n",
    "vy = -40\n",
    "a = 0\n",
    "omega = 0\n",
    "hx = 0\n",
    "hy = 0\n",
    "\n",
    "## Design the weights that gerenates such v_f^* #####\n",
    "mu_matrix_x = np.array([[0,0,0,-1], [0,0,-1,0], [0,1,0,0], [1,0,0,0]])/2\n",
    "mu_matrix_y = np.array([[0,-1,0,0], [1,0,0,0], [0,0,0,1], [0,0,-1,0]])/2\n",
    "\n",
    "mu_matrix_a = np.array([[0,1,0,1], [1,0,1,0], [0,1,0,1], [1,0,1,0]])/2\n",
    "mu_matrix_w = np.array([[0,1,0,-1], [-1,0,1,0], [0,-1,0,1], [1,0,-1,0]])/2\n",
    "mu_matrix_hx = np.array([[0,0,0,1], [0,0,-1,0], [0,1,0,0], [-1,0,0,0]])/2\n",
    "mu_matrix_hy = np.array([[0,1,0,0], [-1,0,0,0], [0,0,0,1], [0,0,-1,0]])/2\n",
    "\n",
    "sim_fr.set_manual_mu(vx*mu_matrix_x + vy*mu_matrix_y + a*mu_matrix_a + omega*mu_matrix_w + \n",
    "                     hx*mu_matrix_hx + hy*mu_matrix_hy)"
   ]
  },
  {
   "cell_type": "code",
   "execution_count": null,
   "metadata": {},
   "outputs": [],
   "source": [
    "## Launch the simulation and plot #####\n",
    "#sim_fr.set_velocity(0, 0, 0, 1)\n",
    "\n",
    "sim_fr.numerical_simulation()\n",
    "sim_fr.plot()"
   ]
  },
  {
   "cell_type": "markdown",
   "metadata": {},
   "source": [
    "## Affine formations in $\\mathbb{C}^1$"
   ]
  },
  {
   "cell_type": "markdown",
   "metadata": {},
   "source": [
    "### Square"
   ]
  },
  {
   "cell_type": "code",
   "execution_count": null,
   "metadata": {},
   "outputs": [],
   "source": [
    "## Parameters #####\n",
    "Z = ((1,2), (1,3), (2,3), (2,4), (3,4), (4,1))\n",
    "p_star = np.array([[-1,-1], [-1,1], [1,1], [1,-1]]) # square\n",
    "p0 = [[-10,-4], [-1,0], [2,1], [2,-1]]\n",
    "tf = 10\n",
    "h = 10\n",
    "kappa = 0.1\n",
    "\n",
    "## Generate the simulation frame #####\n",
    "args = {\"Z\":Z, \"p_star\":p_star, \"p0\":p0, \"tf\":tf, \"h\":h, \"kappa\":kappa}\n",
    "sim_fr = afc.AffineComplexSimulator(**args)"
   ]
  },
  {
   "cell_type": "code",
   "execution_count": null,
   "metadata": {},
   "outputs": [],
   "source": [
    "## Set a desired velocity vector stack (v_f^*) #####\n",
    "\n",
    "# mu_ij weights for the given p_star and Z --------------------------------------------\n",
    "def get_mu_matrix(params):\n",
    "    mu_matrix_x = np.array([[0,0,0,-1], [0,0,-1,0], [0,1,0,0], [1,0,0,0]])/2\n",
    "    mu_matrix_y = np.array([[0,-1,0,0], [1,0,0,0], [0,0,0,1], [0,0,-1,0]])/2\n",
    "\n",
    "    mu_matrix_ax = np.array([[0,0,0,1], [0,0,1,0], [0,1,0,0], [1,0,0,0]])/2\n",
    "    mu_matrix_ay = np.array([[0,1,0,0], [1,0,0,0], [0,0,0,1], [0,0,1,0]])/2\n",
    "    mu_matrix_w = np.array([[0,1,0,-1], [-1,0,1,0], [0,-1,0,1], [1,0,-1,0]])/2\n",
    "    mu_matrix_hx = np.array([[0,0,0,1], [0,0,-1,0], [0,1,0,0], [-1,0,0,0]])/2\n",
    "    mu_matrix_hy = np.array([[0,1,0,0], [-1,0,0,0], [0,0,0,1], [0,0,-1,0]])/2\n",
    "\n",
    "    vx, vy, ax, ay, omega, hx, hy = params\n",
    "\n",
    "    MBt = vx*mu_matrix_x + vy*mu_matrix_y + ax*mu_matrix_ax + ay*mu_matrix_ay\n",
    "    MBt += omega*mu_matrix_w + hx*mu_matrix_hx + hy*mu_matrix_hy\n",
    "    return MBt\n",
    "# -------------------------------------------------------------------------------------\n",
    "\n",
    "params_deg_c1 = [0, 0, 0, 0, 0, 2, 0]\n",
    "\n",
    "params = params_deg_c1\n",
    "sim_fr.set_manual_mu(get_mu_matrix(params))"
   ]
  },
  {
   "cell_type": "code",
   "execution_count": null,
   "metadata": {},
   "outputs": [],
   "source": [
    "## Launch the simulation and plot #####\n",
    "sim_fr.numerical_simulation()\n",
    "sim_fr.plot()"
   ]
  },
  {
   "cell_type": "markdown",
   "metadata": {},
   "source": [
    "### Trapezoid"
   ]
  },
  {
   "cell_type": "code",
   "execution_count": null,
   "metadata": {},
   "outputs": [],
   "source": [
    "## Parameters #####\n",
    "Z = ((1,2), (1,3), (2,3), (2,4), (3,4), (4,1))\n",
    "p_star = np.array([[-1,-1], [-2,2], [2,2], [1,-1]]) # square\n",
    "p0 = [[-10,-3], [-5,-2], [10,4], [0,-5]]\n",
    "tf = 1\n",
    "h = 3\n",
    "kappa = 0.1\n",
    "\n",
    "## Generate the simulation frame #####\n",
    "args = {\"Z\":Z, \"p_star\":p_star, \"p0\":p0, \"tf\":tf, \"h\":h, \"kappa\":kappa}\n",
    "sim_fr = afc.AffineComplexSimulator(**args)"
   ]
  },
  {
   "cell_type": "code",
   "execution_count": null,
   "metadata": {},
   "outputs": [],
   "source": [
    "## Set a desired velocity vector stack (v_f^*) #####\n",
    "vx = -1\n",
    "vy = -1\n",
    "a = 0\n",
    "omega = 0\n",
    "hx = 0\n",
    "hy = 0\n",
    "\n",
    "## Design the weights that gerenates such v_f^* #####\n",
    "mu_matrix_x = np.array([[0,0,0,-1], [0,0,-1/2,0], [0,1/2,0,0], [1,0,0,0]])/2\n",
    "mu_matrix_y = np.array([[0,-1,0,-1/2], [1,0,-1/4,0], [0,-1/4,0,1], [-1/2,0,-1,0]])/3\n",
    "\n",
    "mu_matrix_a = np.array([[0,0,1,0], [0,0,0,2], [2,0,0,0], [0,1,0,0]])/3\n",
    "mu_matrix_w = np.array([[0,1,0,-1], [-2,0,2,0], [0,-2,0,2], [1,0,-1,0]])/3\n",
    "mu_matrix_hx = np.array([[0,0,0,1], [0,0,-2/2,0], [0,2/2,0,0], [-1,0,0,0]])/2\n",
    "mu_matrix_hy = -np.array([[0,-1,0,-1/2], [2,0,-2/4,0], [0,2/4,0,-2], [1/2,0,1,0]])/3\n",
    "\n",
    "sim_fr.set_manual_mu(vx*mu_matrix_x + vy*mu_matrix_y + a*mu_matrix_a + omega*mu_matrix_w + \n",
    "                     hx*mu_matrix_hx + hy*mu_matrix_hy)"
   ]
  },
  {
   "cell_type": "code",
   "execution_count": null,
   "metadata": {},
   "outputs": [],
   "source": [
    "## Launch the simulation and plot #####\n",
    "sim_fr.numerical_simulation()\n",
    "sim_fr.plot()"
   ]
  }
 ],
 "metadata": {
  "kernelspec": {
   "display_name": "Python 3",
   "language": "python",
   "name": "python3"
  },
  "language_info": {
   "codemirror_mode": {
    "name": "ipython",
    "version": 3
   },
   "file_extension": ".py",
   "mimetype": "text/x-python",
   "name": "python",
   "nbconvert_exporter": "python",
   "pygments_lexer": "ipython3",
   "version": "3.10.12"
  }
 },
 "nbformat": 4,
 "nbformat_minor": 2
}
