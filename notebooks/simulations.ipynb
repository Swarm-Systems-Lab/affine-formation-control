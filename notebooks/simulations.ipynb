{
 "cells": [
  {
   "cell_type": "code",
   "execution_count": 1,
   "metadata": {},
   "outputs": [
    {
     "name": "stdout",
     "output_type": "stream",
     "text": [
      "Python 3.10.12\n"
     ]
    }
   ],
   "source": [
    "\"\"\"\\\n",
    "# Copyright (C) 2025 Jesús Bautista Villar <jesbauti20@gmail.com>\n",
    "\"\"\"\n",
    "!python3 -V || python -V"
   ]
  },
  {
   "cell_type": "code",
   "execution_count": 1,
   "metadata": {},
   "outputs": [],
   "source": [
    "import os\n",
    "import sys\n",
    "import numpy as np\n",
    "from numpy import linalg as LA\n",
    "\n",
    "# Plotting\n",
    "import matplotlib.pyplot as plt\n",
    "from seaborn import color_palette\n",
    "\n",
    "# Animations\n",
    "from matplotlib.animation import FuncAnimation\n",
    "from IPython.display import HTML\n",
    "import matplotlib.patches as patches\n",
    "\n",
    "# --------------------------------------------------------------------------------------\n",
    "\n",
    "# Swarm Systems Lab PySimUtils\n",
    "from ssl_pysimutils import createDir, unit_vec, set_paper_parameters\n",
    "\n",
    "# Python project directory to path\n",
    "module_path = os.path.abspath(os.path.join('..'))\n",
    "if module_path not in sys.path:\n",
    "    sys.path.append(module_path)\n",
    "\n",
    "# Formations control simulation frame\n",
    "from afc.sf_affine_complex import sim_frame_affine_complex\n",
    "\n",
    "# --------------------------------------------------------------------------------------\n",
    "\n",
    "# Set Matplotlib parameters for happy submission\n",
    "set_paper_parameters(fontsize=16)"
   ]
  },
  {
   "cell_type": "code",
   "execution_count": 11,
   "metadata": {},
   "outputs": [],
   "source": [
    "def check_case(sim_fr: sim_frame_affine_complex, params: list[float], debug=False):\n",
    "    vx, vy, a, omega, hx, hy = params\n",
    "\n",
    "    kappa = sim_fr.kappa\n",
    "\n",
    "    # Complex conjugate eigen values\n",
    "    sigma1 = np.sqrt((hx-omega)*(hy+omega) + 0j)\n",
    "    sigma2 = - np.sqrt((hx-omega)*(hy+omega) + 0j)\n",
    "    l1 = kappa*(a + sigma1)\n",
    "    l2 = kappa*(a + sigma2)\n",
    "\n",
    "    # Calculate (hx - omega) and (hy + omega)    \n",
    "    hxw = hx - omega\n",
    "    hyw = hy + omega\n",
    "\n",
    "    # Check the cases\n",
    "    C1a = l1 != 0 and l2 != 0\n",
    "    C2a = l1 != 0 or l2 != 0\n",
    "    C3a = (l1 == 0 and l2 == 0) and (hxw == 0 and hyw == 0)\n",
    "    C3b = (l1 == 0 and l2 == 0) and (vy == 0 and hyw == 0)\n",
    "    C3c = (l1 == 0 and l2 == 0) and (vx == 0 and hxw == 0)\n",
    "    C4a = (l1 == 0 and l2 == 0) and (vx != 0 and hyw != 0)\n",
    "    C4b = (l1 == 0 and l2 == 0) and (vy != 0 and hxw != 0)\n",
    "    \n",
    "    if C1a:\n",
    "        id_case = 0 # C1\n",
    "    elif C2a:\n",
    "        id_case = 1 # C2\n",
    "    elif C3a:\n",
    "        id_case = 2 # C3\n",
    "    elif C3b:\n",
    "        id_case = 3 # C3\n",
    "    elif C3c:\n",
    "        id_case = 4 # C3\n",
    "    elif C4a:\n",
    "        id_case = 5 # C4\n",
    "    elif C4b:\n",
    "        id_case = 6 # C4\n",
    "    else:\n",
    "        id_case = None\n",
    "\n",
    "    # Print the information\n",
    "    labels = [\n",
    "        \"C1\", \n",
    "        \"C2\", \n",
    "        \"C3 (hxw == 0 and hyw == 0)\", \n",
    "        \"C3 (vy == 0, hyw == 0)\", \n",
    "        \"C3 (vx == 0, hxw == 0)\",\n",
    "        \"C4 (vx != 0, hyw != 0)\",\n",
    "        \"C4 (vy != 0, hxw != 0)\"\n",
    "    ]\n",
    "\n",
    "    if debug:  \n",
    "        print(\"------------- ->\", labels[id_case])\n",
    "        print(\"l+ =\", l1, \" | l- =\", l2)\n",
    "        print(\"hx - w =\", hxw, \" | hy + w =\", hyw)\n",
    "        print(\"vx =\", vx, \" | vy =\", vy)\n",
    "        print(\"------------- \")\n",
    "    else:\n",
    "        return id_case"
   ]
  },
  {
   "cell_type": "code",
   "execution_count": 12,
   "metadata": {},
   "outputs": [],
   "source": [
    "def get_pt_parallel(\n",
    "        sim_fr: sim_frame_affine_complex, params: list[float], alphas: list[float]\n",
    "    ):\n",
    "    ## Get data\n",
    "    vx, vy, a, omega, hx, hy = params\n",
    "\n",
    "    n = sim_fr.n\n",
    "    kappa = sim_fr.kappa\n",
    "\n",
    "    sigma1 = np.sqrt((hx-omega)*(hy+omega) + 0j)\n",
    "    sigma2 = - np.sqrt((hx-omega)*(hy+omega) + 0j)\n",
    "    l1 = kappa*(a + sigma1)\n",
    "    l2 = kappa*(a + sigma2)\n",
    "\n",
    "    hxw = hx - omega\n",
    "    hyw = hy + omega\n",
    "\n",
    "    ps = sim_fr.p_star_c\n",
    "    ps_x = np.real(ps)\n",
    "    ps_y = np.imag(ps)\n",
    "\n",
    "    ## Calculate the eigenvectors (Prop. 2)\n",
    "    id_case = check_case(sim_fr, params)\n",
    "    a1, a2, a3 = alphas\n",
    "\n",
    "    # C1\n",
    "    if id_case == 0:\n",
    "        gamma1 = (vx*hxw + vy*sigma1) / (l1/kappa)\n",
    "        gamma2 = (vx*hxw + vy*sigma2) / (l2/kappa)\n",
    "        xl1 = gamma1*np.ones(n) + hyw*ps_x + sigma1*ps_y\n",
    "        xl2 = gamma2*np.ones(n) + hyw*ps_x + sigma2*ps_y\n",
    "        return lambda t: a1*np.ones(n) + a2*xl1*np.exp(l1*t) + a3*xl2*np.exp(l2*t)\n",
    "   \n",
    "    # C2\n",
    "    elif id_case == 1:\n",
    "        if l1 != 0:\n",
    "            l = l1\n",
    "            gamma1 = (vx*hxw + vy*sigma1) / (l1/kappa)\n",
    "            xl = gamma1*np.ones(n) + hyw*ps_x + sigma1*ps_y\n",
    "        else:\n",
    "            l = l2\n",
    "            gamma2 = (vx*hxw + vy*sigma2) / (l2/kappa)\n",
    "            xl = gamma2*np.ones(n) + hyw*ps_x + sigma2*ps_y\n",
    "        \n",
    "        x01 = hyw*ps_x - a*ps_y\n",
    "        x02 = (vx*hyw - vy*a)*np.ones(n)\n",
    "        return lambda t: a1*x01 + a2*(x02 + x01*t) + a3*xl*np.exp(l*t)\n",
    "        \n",
    "    # C3\n",
    "    elif id_case in [2,3,4]:\n",
    "        if id_case == 2: # \"C3 (hxw == 0 and hyw == 0)\"\n",
    "            y01 = vy*ps_x - vy*ps_y\n",
    "            y02 = (vx + 1j*vy) * np.ones(n)\n",
    "        elif id_case == 3: # \"C3 (vy == 0, hyw == 0)\"\n",
    "            y01 = hx*np.ones(n) - vx*ps_y\n",
    "            y02 = vx*np.ones(n) + hx*ps_y\n",
    "        elif id_case == 4: # \"C3 (vx == 0, hxw == 0)\"\n",
    "            y01 = 1j*(hy*np.ones(n) - vy*ps_x)\n",
    "            y02 = 1j*(vy*np.ones(n) + hy*ps_x)\n",
    "        return lambda t: a1*y01 * a2*y02 + a3*(ps + y02*t)\n",
    "\n",
    "    # C4\n",
    "    elif id_case in [5,6]:\n",
    "        if id_case == 5: # \"C4 (vx != 0, hyw != 0)\"\n",
    "            z01 = 1j*vx*hy*np.ones(n)\n",
    "            z02 = vx*np.ones(n) + 1j*hy*ps_x\n",
    "        elif id_case == 6: # \"C4 (vy != 0, hxw != 0)\"\n",
    "            z01 = vy*hx*np.ones(n)\n",
    "            z02 = 1j*vy*np.ones(n) + hx*ps_y\n",
    "        return lambda t: a1*z01 + a2*(z02 + z01*t) + a3*(ps + z02*t + z01*t**2)\n",
    "\n",
    "    else:\n",
    "        return None"
   ]
  },
  {
   "cell_type": "markdown",
   "metadata": {},
   "source": [
    "## Simulations"
   ]
  },
  {
   "cell_type": "code",
   "execution_count": 54,
   "metadata": {},
   "outputs": [
    {
     "name": "stdout",
     "output_type": "stream",
     "text": [
      "Failed to dualize the problem: 'float' object is not iterable\n"
     ]
    }
   ],
   "source": [
    "## Parameters #####\n",
    "\n",
    "# Reference shape\n",
    "p_star = np.array([[-1,-1], [-1,1], [1,1], [1,-1]]) # square\n",
    "n = p_star.shape[0]\n",
    "\n",
    "## Generate the simulation frames #####\n",
    "tf = 2\n",
    "h = 10\n",
    "\n",
    "args = {\n",
    "    \"n\"     : n, \n",
    "    \"Z\"     : ((1,2), (1,3), (2,3), (2,4), (3,4), (4,1)), \n",
    "    \"p_star\": p_star,\n",
    "    \"p0\"    : [[-10,-3], [-5,-5], [0,4], [0,-5]],\n",
    "    \"tf\"    : tf, \n",
    "    \"h\"     : h,\n",
    "    \"kappa\" : 1, \n",
    "    \"K\"     : np.eye(n)\n",
    "}\n",
    "\n",
    "sim_fr = sim_frame_affine_complex(**args)"
   ]
  },
  {
   "cell_type": "code",
   "execution_count": 55,
   "metadata": {},
   "outputs": [
    {
     "name": "stdout",
     "output_type": "stream",
     "text": [
      "------------- -> C3 (hxw == 0 and hyw == 0)\n",
      "l+ = 0j  | l- = 0j\n",
      "hx - w = 0  | hy + w = 0\n",
      "vx = 1  | vy = 0\n",
      "------------- \n"
     ]
    }
   ],
   "source": [
    "## Design the parameters of a body-fixed desired velocity in S #####\n",
    "\n",
    "# Parameters examples ----------------------------------\n",
    "# C1\n",
    "params_deg_c1 = [1, 0, 0, 2, 1, 0]\n",
    "\n",
    "# C2\n",
    "params_deg_c2 = [0, 0, 1, 1, 2, 0]\n",
    "\n",
    "# C3\n",
    "params_deg_c3a = [1, 1, 0, 0, 0, 0]\n",
    "params_deg_c3b = [1, 0, 0, 0, 4, 0]\n",
    "params_deg_c3c = [0, 1, 0, 0, 0, 4]\n",
    "\n",
    "# C4\n",
    "params_deg_c4a = [1, 0, 0, 0, 0, 4]\n",
    "params_deg_c4b = [0, 1, 0, 0, 4, 0]\n",
    "# ------------------------------------------------------\n",
    "\n",
    "params = [1, 0, 0, 0, 0, 0]\n",
    "check_case(sim_fr, params, debug=True)"
   ]
  },
  {
   "cell_type": "code",
   "execution_count": 57,
   "metadata": {},
   "outputs": [
    {
     "name": "stdout",
     "output_type": "stream",
     "text": [
      "hl = 0\n"
     ]
    },
    {
     "name": "stderr",
     "output_type": "stream",
     "text": [
      "100%|██████████| 2000/2000 [00:00<00:00, 46401.02it/s]\n"
     ]
    },
    {
     "data": {
      "image/png": "[encoded data removed]",
      "text/plain": [
       "<Figure size 640x480 with 1 Axes>"
      ]
     },
     "metadata": {},
     "output_type": "display_data"
    }
   ],
   "source": [
    "## Design M #####\n",
    "# Set the parameters\n",
    "vx, vy, a, omega, hx, hy = params\n",
    "\n",
    "# Design the weights that gerenates the body-fixed desired velocity v_f^*\n",
    "mu_matrix_x = np.array([[0,0,0,-1], [0,0,-1,0], [0,1,0,0], [1,0,0,0]])/2\n",
    "mu_matrix_y = np.array([[0,-1,0,0], [1,0,0,0], [0,0,0,1], [0,0,-1,0]])/2\n",
    "\n",
    "mu_matrix_a = np.array([[0,1,0,1], [1,0,1,0], [0,1,0,1], [1,0,1,0]])/2\n",
    "mu_matrix_w = np.array([[0,1,0,-1], [-1,0,1,0], [0,-1,0,1], [1,0,-1,0]])/2\n",
    "mu_matrix_hx = np.array([[0,0,0,1], [0,0,-1,0], [0,1,0,0], [-1,0,0,0]])/2\n",
    "mu_matrix_hy = np.array([[0,1,0,0], [-1,0,0,0], [0,0,0,1], [0,0,-1,0]])/2\n",
    "\n",
    "# Pass the weights to the simulation frame, it will compute M and L_mod\n",
    "sim_fr.set_manual_mu(\n",
    "    vx*mu_matrix_x + vy*mu_matrix_y + \n",
    "    a*mu_matrix_a + omega*mu_matrix_w + \n",
    "    hx*mu_matrix_hx + hy*mu_matrix_hy\n",
    ")\n",
    "\n",
    "## Calculate the lower bound of h (h_l) #####\n",
    "hl = 0\n",
    "print(\"hl =\", hl)\n",
    "\n",
    "## Launch the simulation and plot #####\n",
    "sim_fr.numerical_simulation()\n",
    "sim_fr.plot(lim=12)"
   ]
  },
  {
   "cell_type": "markdown",
   "metadata": {},
   "source": [
    "# Simulation (4 cases)"
   ]
  },
  {
   "cell_type": "code",
   "execution_count": 64,
   "metadata": {},
   "outputs": [
    {
     "name": "stdout",
     "output_type": "stream",
     "text": [
      "Failed to dualize the problem: 'float' object is not iterable\n"
     ]
    }
   ],
   "source": [
    "## Parameters #####\n",
    "\n",
    "# Reference shape\n",
    "p_star = np.array([[-1,-1], [-1,1], [1,1], [1,-1]]) # square\n",
    "n = p_star.shape[0]\n",
    "\n",
    "# Initial condition\n",
    "ps = p_star[:, 0] + p_star[:, 1] * 1j\n",
    "lambda d: (d[0] + 1j*d[1])*np.ones(n) + (d[2] + 1j*d[3])*np.real(ps) + (d[4] + 1j*d[5])*np.imag(ps)\n",
    "\n",
    "## Generate the simulation frames #####\n",
    "tf = 1\n",
    "h = 100\n",
    "\n",
    "args = {\n",
    "    \"n\"     : n, \n",
    "    \"Z\"     : ((1,2), (1,3), (2,3), (2,4), (3,4), (4,1)), \n",
    "    \"p_star\": p_star,\n",
    "    \"p0\"    : p_star,\n",
    "    \"tf\"    : tf, \n",
    "    \"h\"     : h,\n",
    "    \"kappa\" : 1, \n",
    "    \"K\"     : np.eye(n), \n",
    "    \"debug\" : False\n",
    "}\n",
    "\n",
    "sim_fr = sim_frame_affine_complex(**args)"
   ]
  },
  {
   "cell_type": "code",
   "execution_count": 65,
   "metadata": {},
   "outputs": [
    {
     "name": "stdout",
     "output_type": "stream",
     "text": [
      "------------- -> C3 (hxw == 0 and hyw == 0)\n",
      "l+ = 0j  | l- = 0j\n",
      "hx - w = 0  | hy + w = 0\n",
      "vx = 1  | vy = 1\n",
      "------------- \n"
     ]
    }
   ],
   "source": [
    "## Design the parameters of a body-fixed desired velocity in S #####\n",
    "\n",
    "# Parameters examples ----------------------------------\n",
    "# C1\n",
    "params_deg_c1 = [1, 0, 0, 2, 1, 0]\n",
    "\n",
    "# C2\n",
    "params_deg_c2 = [0, 0, 1, 1, 2, 0]\n",
    "\n",
    "# C3\n",
    "params_deg_c3a = [1, 1, 0, 0, 0, 0]\n",
    "params_deg_c3b = [1, 0, 0, 0, 4, 0]\n",
    "params_deg_c3c = [0, 1, 0, 0, 0, 4]\n",
    "\n",
    "# C4\n",
    "params_deg_c4a = [1, 0, 0, 0, 0, 4]\n",
    "params_deg_c4b = [0, 1, 0, 0, 4, 0]\n",
    "# ------------------------------------------------------\n",
    "\n",
    "params = params_deg_c3a\n",
    "check_case(sim_fr, params, debug=True)"
   ]
  },
  {
   "cell_type": "code",
   "execution_count": 66,
   "metadata": {},
   "outputs": [
    {
     "name": "stdout",
     "output_type": "stream",
     "text": [
      "hl = 0\n"
     ]
    },
    {
     "name": "stderr",
     "output_type": "stream",
     "text": [
      "100%|██████████| 1000/1000 [00:00<00:00, 24721.97it/s]\n"
     ]
    }
   ],
   "source": [
    "## Design M #####\n",
    "# Set the parameters\n",
    "vx, vy, a, omega, hx, hy = params\n",
    "\n",
    "# Design the weights that gerenates the body-fixed desired velocity v_f^*\n",
    "mu_matrix_x = np.array([[0,0,0,-1], [0,0,-1,0], [0,1,0,0], [1,0,0,0]])/2\n",
    "mu_matrix_y = np.array([[0,-1,0,0], [1,0,0,0], [0,0,0,1], [0,0,-1,0]])/2\n",
    "\n",
    "mu_matrix_a = np.array([[0,1,0,1], [1,0,1,0], [0,1,0,1], [1,0,1,0]])/2\n",
    "mu_matrix_w = np.array([[0,1,0,-1], [-1,0,1,0], [0,-1,0,1], [1,0,-1,0]])/2\n",
    "mu_matrix_hx = np.array([[0,0,0,1], [0,0,-1,0], [0,1,0,0], [-1,0,0,0]])/2\n",
    "mu_matrix_hy = np.array([[0,1,0,0], [-1,0,0,0], [0,0,0,1], [0,0,-1,0]])/2\n",
    "\n",
    "# Pass the weights to the simulation frame, it will compute M and L_mod\n",
    "sim_fr.set_manual_mu(\n",
    "    vx*mu_matrix_x + vy*mu_matrix_y + \n",
    "    a*mu_matrix_a + omega*mu_matrix_w + \n",
    "    hx*mu_matrix_hx + hy*mu_matrix_hy\n",
    ")\n",
    "\n",
    "## Calculate the lower bound of h (h_l) #####\n",
    "hl = 0\n",
    "print(\"hl =\", hl)\n",
    "\n",
    "## Launch the simulation and plot #####\n",
    "sim_fr.numerical_simulation()"
   ]
  },
  {
   "cell_type": "code",
   "execution_count": 67,
   "metadata": {},
   "outputs": [
    {
     "data": {
      "image/png": "[encoded data removed]",
      "text/plain": [
       "<Figure size 640x480 with 1 Axes>"
      ]
     },
     "metadata": {},
     "output_type": "display_data"
    }
   ],
   "source": [
    "pt_parallel = get_pt_parallel(sim_fr, params, [0,1,1])\n",
    "\n",
    "# Evaluate\n",
    "t_list = np.linspace(0,sim_fr.tf,100)\n",
    "p_eval = []\n",
    "\n",
    "for t in t_list:\n",
    "    p_eval.append(pt_parallel(t))\n",
    "p_eval = np.array(p_eval)\n",
    "\n",
    "# Plot analytical solution\n",
    "fig = plt.figure()\n",
    "ax = fig.subplots()\n",
    "\n",
    "lim = 5\n",
    "ax.set_xlim([-lim, lim])\n",
    "ax.set_ylim([-lim, lim])\n",
    "\n",
    "ax.grid(True)\n",
    "ax.set_aspect(\"equal\")\n",
    "\n",
    "colors = [\"k\", \"b\", \"r\", \"g\"]\n",
    "for i in range(4):\n",
    "    ax.plot(np.real(p_eval)[:,i], np.imag(p_eval)[:,i], c=colors[i], ls=\"--\")\n",
    "\n",
    "# Plot the simulation\n",
    "sim_fr.plot(ax)\n",
    "\n",
    "plt.show()\n"
   ]
  }
 ],
 "metadata": {
  "kernelspec": {
   "display_name": "Python 3",
   "language": "python",
   "name": "python3"
  },
  "language_info": {
   "codemirror_mode": {
    "name": "ipython",
    "version": 3
   },
   "file_extension": ".py",
   "mimetype": "text/x-python",
   "name": "python",
   "nbconvert_exporter": "python",
   "pygments_lexer": "ipython3",
   "version": "3.10.12"
  }
 },
 "nbformat": 4,
 "nbformat_minor": 2
}
