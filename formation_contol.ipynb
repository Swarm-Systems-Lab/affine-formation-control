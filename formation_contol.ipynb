{
 "cells": [
  {
   "cell_type": "code",
   "execution_count": 2,
   "metadata": {},
   "outputs": [
    {
     "name": "stdout",
     "output_type": "stream",
     "text": [
      "Python 3.11.4\n"
     ]
    }
   ],
   "source": [
    "\"\"\"\\\n",
    "# Copyright (C) 2024 Jesús Bautista Villar <jesbauti20@gmail.com>\n",
    "\"\"\"\n",
    "!python --version"
   ]
  },
  {
   "cell_type": "code",
   "execution_count": 1,
   "metadata": {},
   "outputs": [],
   "source": [
    "import os\n",
    "import numpy as np\n",
    "from numpy import linalg as LA\n",
    "\n",
    "# plotting\n",
    "import matplotlib.pyplot as plt\n",
    "from seaborn import color_palette\n",
    "\n",
    "# animations\n",
    "from matplotlib.animation import FuncAnimation\n",
    "from IPython.display import HTML\n",
    "import matplotlib.patches as patches\n",
    "\n",
    "# affine_formations tools\n",
    "from sf_complex import sim_frame_complex\n",
    "from sf_affine import sim_frame_affine"
   ]
  },
  {
   "cell_type": "markdown",
   "metadata": {},
   "source": [
    "## Formations in $\\mathbb{C}^1$ - Complex laplacian "
   ]
  },
  {
   "cell_type": "markdown",
   "metadata": {},
   "source": [
    "### Square"
   ]
  },
  {
   "cell_type": "code",
   "execution_count": 3,
   "metadata": {},
   "outputs": [
    {
     "name": "stdout",
     "output_type": "stream",
     "text": [
      "B = \n",
      " [[-1.  0.  0.  1.]\n",
      " [ 1. -1.  0.  0.]\n",
      " [ 0.  1. -1.  0.]\n",
      " [ 0.  0.  1. -1.]]\n",
      "L = \n",
      " [[ 2.+4.j -3.-1.j  0.+0.j  1.-3.j]\n",
      " [-3.-1.j  4.-2.j -1.+3.j  0.+0.j]\n",
      " [ 0.+0.j  1.-3.j  2.+4.j -3.-1.j]\n",
      " [-1.+3.j  0.+0.j -3.-1.j  4.-2.j]]\n",
      "\n",
      "L@1_n = \n",
      " [[0.+0.j]\n",
      " [0.+0.j]\n",
      " [0.+0.j]\n",
      " [0.+0.j]]\n",
      "\n",
      "L@p^star = \n",
      " [[0.+0.j]\n",
      " [0.+0.j]\n",
      " [0.+0.j]\n",
      " [0.+0.j]]\n",
      "\n",
      "L eigen_values:\n",
      "lambda_0 = 6.000000+2.000000j\n",
      "lambda_1 = -0.000000-0.000000j\n",
      "lambda_2 = 6.000000+2.000000j\n",
      "lambda_3 = -0.000000+0.000000j\n"
     ]
    }
   ],
   "source": [
    "## Parameters #####\n",
    "n = 4\n",
    "Z = ((1,2), (2,3), (3,4), (4,1))\n",
    "p_star = [0-1j, 1+0j, 0+1j, -1+0j] # square\n",
    "p0 = [-10-1j, 4-2j, 0+4j, -0.5+0.5j]\n",
    "tf = 4\n",
    "h = 0.1\n",
    "K = np.eye(n)\n",
    "\n",
    "## Generate the simulation frame #####\n",
    "args = {\"n\":n, \"Z\":Z, \"p_star\":p_star, \"p0\":p0, \"tf\":tf, \"h\":h, \"K\":K, \"p1\":(1 + 2j), \"debug\":True}\n",
    "sim_fr = sim_frame_complex(**args)"
   ]
  },
  {
   "cell_type": "code",
   "execution_count": 8,
   "metadata": {},
   "outputs": [
    {
     "name": "stdout",
     "output_type": "stream",
     "text": [
      "\n",
      "v_f = \n",
      " [ 1.+0.j  0.+1.j -1.+0.j  0.-1.j]\n",
      "\n",
      "M = \n",
      " [[ 0.5-0.5j  0. +0.j   0. +0.j   0. +0.j ]\n",
      " [ 0.5+0.5j -0. -0.j   0. +0.j   0. +0.j ]\n",
      " [ 0. +0.j   0.5+0.5j -0. -0.j   0. +0.j ]\n",
      " [ 0. +0.j   0. +0.j   0. +0.j   0.5-0.5j]]\n",
      "\n",
      "L@1_n = \n",
      " [[0.+0.j]\n",
      " [0.+0.j]\n",
      " [0.+0.j]\n",
      " [0.+0.j]]\n",
      "\n",
      "L@v_f = \n",
      " [[0.+0.j]\n",
      " [0.+0.j]\n",
      " [0.+0.j]\n",
      " [0.+0.j]]\n",
      "\n",
      "L eigen_values:\n",
      "lambda_0 = 11.000000-3.000000j\n",
      "lambda_1 = 0.000000-10.000000j\n",
      "lambda_2 = 1.000000-3.000000j\n",
      "lambda_3 = -0.000000+0.000000j\n"
     ]
    },
    {
     "name": "stderr",
     "output_type": "stream",
     "text": [
      "100%|██████████| 4000/4000 [00:00<00:00, 166668.81it/s]\n"
     ]
    },
    {
     "data": {
      "image/png": "[encoded data removed]",
      "text/plain": [
       "<Figure size 640x480 with 1 Axes>"
      ]
     },
     "metadata": {},
     "output_type": "display_data"
    }
   ],
   "source": [
    "## Launch the simulation and plot #####\n",
    "sim_fr.set_velocity(0, 0, 0, 1)\n",
    "\n",
    "sim_fr.numerical_simulation()\n",
    "sim_fr.plot()"
   ]
  },
  {
   "cell_type": "markdown",
   "metadata": {},
   "source": [
    "### Line"
   ]
  },
  {
   "cell_type": "code",
   "execution_count": 90,
   "metadata": {},
   "outputs": [
    {
     "name": "stdout",
     "output_type": "stream",
     "text": [
      "B = \n",
      " [[-1.  0.  0.  1.]\n",
      " [ 1. -1.  0.  0.]\n",
      " [ 0.  1. -1.  0.]\n",
      " [ 0.  0.  1. -1.]]\n",
      "L = \n",
      " [[ 6.+0.j -8.+0.j  0.+0.j  2.-0.j]\n",
      " [-4.+0.j  6.+0.j -2.+0.j  0.+0.j]\n",
      " [ 0.+0.j -2.+0.j  6.+0.j -4.+0.j]\n",
      " [ 2.-0.j  0.+0.j -8.+0.j  6.+0.j]]\n",
      "\n",
      "L@1_n = \n",
      " [[0.+0.j]\n",
      " [0.+0.j]\n",
      " [0.+0.j]\n",
      " [0.+0.j]]\n",
      "\n",
      "L@p^star = \n",
      " [[0.+0.j]\n",
      " [0.+0.j]\n",
      " [0.+0.j]\n",
      " [0.+0.j]]\n",
      "\n",
      "L eigen_values:\n",
      "lambda_0 = 12.000000+0.000000j\n",
      "lambda_1 = -0.000000+0.000000j\n",
      "lambda_2 = 12.000000+0.000000j\n",
      "lambda_3 = -0.000000+0.000000j\n"
     ]
    }
   ],
   "source": [
    "## Parameters #####\n",
    "n = 4\n",
    "Z = ((1,2), (2,3), (3,4), (4,1))\n",
    "p_star = [-2+0j, -1+0j, 1+0j, 2+0j] # square\n",
    "p0 = [-10-1j, 4-2j, 0+4j, -0.5+0.5j]\n",
    "tf = 5\n",
    "h = 2\n",
    "K = np.eye(n)\n",
    "\n",
    "## Generate the simulation frame #####\n",
    "args = {\"n\":n, \"Z\":Z, \"p_star\":p_star, \"p0\":p0, \"tf\":tf, \"h\":h, \"K\":K, \"p1\":-2, \"debug\":True}\n",
    "sim_fr = sim_frame_complex(**args)"
   ]
  },
  {
   "cell_type": "code",
   "execution_count": 92,
   "metadata": {},
   "outputs": [
    {
     "name": "stdout",
     "output_type": "stream",
     "text": [
      "\n",
      "v_f = \n",
      " [-0.1-0.1j  0. +0.j   0.2+0.2j  0.3+0.3j]\n",
      "\n",
      "M = \n",
      " [[-0.1  -0.1j    0.   +0.j     0.   +0.j     0.   +0.j   ]\n",
      " [ 0.   +0.j    -0.   -0.j     0.   +0.j     0.   +0.j   ]\n",
      " [ 0.   +0.j     0.1  +0.1j   -0.   -0.j     0.   +0.j   ]\n",
      " [ 0.   +0.j     0.   +0.j     0.   +0.j    -0.075-0.075j]]\n",
      "\n",
      "L@1_n = \n",
      " [[0.+0.j]\n",
      " [0.+0.j]\n",
      " [0.+0.j]\n",
      " [0.+0.j]]\n",
      "\n",
      "L@v_f = \n",
      " [[0.00000000e+00+0.00000000e+00j]\n",
      " [0.00000000e+00+0.00000000e+00j]\n",
      " [0.00000000e+00+0.00000000e+00j]\n",
      " [2.22044605e-16+2.22044605e-16j]]\n",
      "\n",
      "L eigen_values:\n",
      "lambda_0 = 0.000000+0.000000j\n",
      "lambda_1 = -0.050000-0.050000j\n",
      "lambda_2 = 11.962500-0.037500j\n",
      "lambda_3 = 11.950000-0.050000j\n"
     ]
    },
    {
     "name": "stderr",
     "output_type": "stream",
     "text": [
      "100%|██████████| 5000/5000 [00:00<00:00, 204082.52it/s]\n"
     ]
    },
    {
     "data": {
      "image/png": "[encoded data removed]",
      "text/plain": [
       "<Figure size 640x480 with 1 Axes>"
      ]
     },
     "metadata": {},
     "output_type": "display_data"
    }
   ],
   "source": [
    "## Launch the simulation and plot #####\n",
    "sim_fr.set_velocity(0.1, 0.1, 0.1, 0.1)\n",
    "\n",
    "sim_fr.numerical_simulation()\n",
    "sim_fr.plot()"
   ]
  },
  {
   "cell_type": "markdown",
   "metadata": {},
   "source": [
    "## Affine formations in $R^2$"
   ]
  },
  {
   "cell_type": "code",
   "execution_count": 2,
   "metadata": {},
   "outputs": [
    {
     "name": "stdout",
     "output_type": "stream",
     "text": [
      "Failed to dualize the problem: 'float' object is not iterable\n",
      "W (6, 6) = \n",
      " [[ 0.25  0.    0.    0.    0.    0.  ]\n",
      " [ 0.   -0.25  0.    0.    0.    0.  ]\n",
      " [ 0.    0.    0.25  0.    0.    0.  ]\n",
      " [ 0.    0.    0.   -0.25  0.    0.  ]\n",
      " [ 0.    0.    0.    0.    0.25  0.  ]\n",
      " [ 0.    0.    0.    0.    0.    0.25]]\n",
      "L (8, 8) = \n",
      " [[ 0.25  0.   -0.25 -0.    0.25  0.   -0.25 -0.  ]\n",
      " [ 0.    0.25 -0.   -0.25  0.    0.25 -0.   -0.25]\n",
      " [-0.25 -0.    0.25  0.   -0.25 -0.    0.25  0.  ]\n",
      " [-0.   -0.25  0.    0.25 -0.   -0.25  0.    0.25]\n",
      " [ 0.25  0.   -0.25 -0.    0.25  0.   -0.25 -0.  ]\n",
      " [ 0.    0.25 -0.   -0.25  0.    0.25 -0.   -0.25]\n",
      " [-0.25 -0.    0.25  0.   -0.25 -0.    0.25  0.  ]\n",
      " [-0.   -0.25  0.    0.25 -0.   -0.25  0.    0.25]]\n",
      " --------- Eigen values\n",
      "lambda_0 = 0.000000\n",
      "lambda_1 = 1.000000\n",
      "lambda_2 = 0.000000\n",
      "lambda_3 = 1.000000\n",
      "lambda_4 = 0.000000\n",
      "lambda_5 = 0.000000\n",
      "lambda_6 = -0.000000\n",
      "lambda_7 = -0.000000\n"
     ]
    }
   ],
   "source": [
    "## Parameters #####\n",
    "n = 4\n",
    "#Z = ((1,2), (2,3), (3,4), (4,1))\n",
    "Z = ((1,2), (1,3), (2,3), (2,4), (3,4), (4,1))\n",
    "p_star = [[-1,-1], [1,-1], [1,1], [-1,1]] # square\n",
    "p0 = [[-10,-1], [4,-2], [0,4], [-0.5,0.5]]\n",
    "tf = 4\n",
    "h = 0.1\n",
    "K = np.eye(n)\n",
    "\n",
    "## Generate the simulation frame #####\n",
    "args = {\"n\":n, \"Z\":Z, \"p_star\":p_star, \"p0\":p0, \"tf\":tf, \"h\":h, \"K\":K, \"debug\":True}\n",
    "sim_fr = sim_frame_affine(**args)"
   ]
  },
  {
   "cell_type": "code",
   "execution_count": 3,
   "metadata": {},
   "outputs": [
    {
     "name": "stdout",
     "output_type": "stream",
     "text": [
      "L@1_n^bar       =  [0. 0. 0. 0. 0. 0. 0. 0.]\n",
      "L@p^*           =  [ 0. -0. -0.  0.  0.  0.  0.  0.]\n",
      "L@R(pi/4)@p^*   =  [ 0. -0. -0. -0.  0.  0.  0.  0.]\n",
      "L@(4*I_mn)@p^*  =  [ 0. -0. -0.  0.  0.  0.  0.  0.]\n",
      "L@Shx@p^*       =  [ 0. -0. -0. -0.  0.  0.  0.  0.]\n",
      "L@Shy@p^*       =  [-0. -0. -0.  0.  0.  0.  0.  0.]\n",
      "L@A@p^*         =  [ 0.   0.5 -0.  -0.5  0.   0.5  0.  -0.5]\n"
     ]
    },
    {
     "data": {
      "image/png": "[encoded data removed]",
      "text/plain": [
       "<Figure size 640x480 with 1 Axes>"
      ]
     },
     "metadata": {},
     "output_type": "display_data"
    }
   ],
   "source": [
    "sim_fr.check_eigen_vectors()"
   ]
  },
  {
   "cell_type": "code",
   "execution_count": null,
   "metadata": {},
   "outputs": [],
   "source": []
  }
 ],
 "metadata": {
  "kernelspec": {
   "display_name": "Python 3",
   "language": "python",
   "name": "python3"
  },
  "language_info": {
   "codemirror_mode": {
    "name": "ipython",
    "version": 3
   },
   "file_extension": ".py",
   "mimetype": "text/x-python",
   "name": "python",
   "nbconvert_exporter": "python",
   "pygments_lexer": "ipython3",
   "version": "3.11.4"
  }
 },
 "nbformat": 4,
 "nbformat_minor": 2
}
