{
 "cells": [
  {
   "cell_type": "code",
   "execution_count": 1,
   "metadata": {},
   "outputs": [
    {
     "name": "stdout",
     "output_type": "stream",
     "text": [
      "Python 3.10.12\n"
     ]
    }
   ],
   "source": [
    "\"\"\"\\\n",
    "# Copyright (C) 2024 Jesús Bautista Villar <jesbauti20@gmail.com>\n",
    "\"\"\"\n",
    "!python --version"
   ]
  },
  {
   "cell_type": "code",
   "execution_count": 301,
   "metadata": {},
   "outputs": [],
   "source": [
    "import os\n",
    "import numpy as np\n",
    "from numpy import linalg as LA\n",
    "\n",
    "# Plotting\n",
    "import matplotlib.pyplot as plt\n",
    "from seaborn import color_palette\n",
    "\n",
    "# Animations\n",
    "from matplotlib.animation import FuncAnimation\n",
    "from IPython.display import HTML\n",
    "import matplotlib.patches as patches\n",
    "\n",
    "# Formations control simulation frames\n",
    "from sf_complex import sim_frame_complex\n",
    "from sf_affine import sim_frame_affine\n",
    "from sf_affine_complex import sim_frame_affine_complex\n",
    "\n",
    "# Happy pdf for a happy submission without \n",
    "# complains in paperplaza, arxiv, etc\n",
    "import matplotlib\n",
    "\n",
    "font = {'size' : 16}\n",
    "matplotlib.rc('font', **font)"
   ]
  },
  {
   "cell_type": "markdown",
   "metadata": {},
   "source": [
    "## Diagonalization of A"
   ]
  },
  {
   "cell_type": "code",
   "execution_count": 41,
   "metadata": {},
   "outputs": [
    {
     "name": "stdout",
     "output_type": "stream",
     "text": [
      "A =\n",
      " [[ 2. -1.]\n",
      " [ 1.  2.]] \n",
      "\n",
      "------- Predicted\n",
      "lambda_1 = 2.000+1.000j --  [0.   +0.707j 0.707+0.j   ]\n",
      "lambda_2 = 2.000-1.000j --  [ 0.   +0.707j -0.707+0.j   ]\n",
      "------- Computed\n",
      "lambdas:  [2.+1.j 2.-1.j]\n",
      "v1 =  [0.707+0.j    0.   -0.707j]\n",
      "v2 =  [0.707-0.j    0.   +0.707j]\n"
     ]
    }
   ],
   "source": [
    "a = 2\n",
    "omega = 1\n",
    "hx = 0\n",
    "hy = 0\n",
    "\n",
    "A = a*np.eye(2) + omega*np.array([[0,-1],[1,0]]) + np.array([[0,hx],[hy,0]])\n",
    "print(\"A =\\n\",A,\"\\n\")\n",
    "\n",
    "# Predicted eigen values and eigenvectors\n",
    "lambda1 = a + np.sqrt((hx - omega)*(hy + omega) + 0j)\n",
    "lambda2 = a - np.sqrt((hx - omega)*(hy + omega) + 0j)\n",
    "\n",
    "if hx-omega == 0 and hy+omega == 0: # The matrix is already diagonal\n",
    "    v1 = np.array([1, 0])\n",
    "    v2 = np.array([0, 1])\n",
    "elif hx-omega != 0 and hy+omega !=0: # Diagonalizable\n",
    "    a = np.sqrt(hx - omega + 0j)\n",
    "    b = np.sqrt(hy + omega + 0j)\n",
    "    denom = np.sqrt(a*np.conj(a) + b*np.conj(b))\n",
    "\n",
    "    v1 = np.array([a,  b])/denom\n",
    "    v2 = np.array([a, -b])/denom\n",
    "elif hx-omega != 0: # Not diagonalizable (we need 2 generalized eigenvectors)\n",
    "    v1 = np.array([1, 0])\n",
    "    v2 = np.array([0, 1/(hx-omega)])\n",
    "else: # (hy+omega != 0) Not diagonalizable (we need 2 generalized eigenvectors)\n",
    "    v1 = np.array([0, 1])\n",
    "    v2 = np.array([1/(hy+omega), 0])\n",
    "\n",
    "V = np.array([v1,v2]).T\n",
    "\n",
    "print(\"------- Predicted\")\n",
    "with np.printoptions(precision=3, suppress=True):\n",
    "    print(\"lambda_1 = {:.3f} -- \".format(lambda1), v1)\n",
    "    print(\"lambda_2 = {:.3f} -- \".format(lambda2), v2)\n",
    "    #print(\"Diagonalization check (A - VDV^-1):\\n\", A - V@np.array([[lambda1,0],[0,lambda2]])@LA.inv(V))\n",
    "# print((A - lambda1*np.eye(2))@v1[:,None])\n",
    "# print((A - lambda2*np.eye(2))@v2[:,None])\n",
    "\n",
    "# Comparing with the computed eigen values and eigenvectors\n",
    "print(\"------- Computed\")\n",
    "lambdas, vs = LA.eig(A)\n",
    "with np.printoptions(precision=3, suppress=True):\n",
    "    print(\"lambdas: \", lambdas)\n",
    "    print(\"v1 = \", vs[:,0])\n",
    "    print(\"v2 = \", vs[:,1])"
   ]
  },
  {
   "cell_type": "markdown",
   "metadata": {},
   "source": [
    "### Differential equation \n",
    "$$\\dot x(t) = A x(t) \\quad \\Longrightarrow \\quad x(t) = e^{At}x(0)$$"
   ]
  },
  {
   "cell_type": "code",
   "execution_count": 10,
   "metadata": {},
   "outputs": [
    {
     "data": {
      "image/png": "[encoded data removed]",
      "text/plain": [
       "<Figure size 640x480 with 1 Axes>"
      ]
     },
     "metadata": {},
     "output_type": "display_data"
    }
   ],
   "source": [
    "## Analytical solution\n",
    "tf = 2\n",
    "t = np.linspace(0,tf,1000)[:,None]\n",
    "v1 = v1.reshape(2,1)\n",
    "v2 = v2.reshape(2,1)\n",
    "\n",
    "fig, ax = plt.subplots()\n",
    "\n",
    "if hx-omega == 0 and hy+omega == 0:\n",
    "    c_list = ((2,1),(-1,0),(2,2),(-2,2))\n",
    "    for c_pair in c_list:\n",
    "        c1 = c_pair[0]\n",
    "        c2 = c_pair[1]\n",
    "        \n",
    "        x = x = np.exp(a*t)*(c1*v1.T + c2*v2.T)\n",
    "\n",
    "        ax.plot(x[:,0], x[:,1])\n",
    "        ax.plot(x[0,0], x[0,1], \"xk\")\n",
    "        \n",
    "elif hx-omega != 0 and hy+omega !=0:\n",
    "    c_list = ((10,1),(-1,0),(2,2),(-2,2))\n",
    "    for c_pair in c_list:\n",
    "        c1 = c_pair[0]\n",
    "        c2 = c_pair[1]\n",
    "\n",
    "        x =  c1*np.squeeze(np.exp(lambda1.real*t))*(np.real(v1)*np.cos(lambda1.imag*t).T + \\\n",
    "                                                    np.imag(v1)*np.sin(lambda1.imag*t).T)  \\\n",
    "            +c2*np.squeeze(np.exp(lambda2.real*t))*(np.real(v2)*np.cos(lambda2.imag*t).T + \\\n",
    "                                                    np.imag(v2)*np.sin(lambda2.imag*t).T)\n",
    "        x = x.T\n",
    "\n",
    "        ax.plot(x[:,0], x[:,1])\n",
    "        ax.plot(x[0,0], x[0,1], \"xk\")\n",
    "\n",
    "elif hx-omega != 0:\n",
    "    c_list = ((-1,-1),(-1,2),(1,0.5),(4,-4))\n",
    "    for c_pair in c_list:\n",
    "        c1 = c_pair[0]\n",
    "        c2 = c_pair[1]\n",
    "\n",
    "        x =  c1*np.exp(a*t)*v1.T + c2*np.exp(a*t)*(v2.T + t*v1.T)\n",
    "\n",
    "        ax.plot(x[:,0], x[:,1])\n",
    "        ax.plot(x[0,0], x[0,1], \"xk\")\n",
    "\n",
    "k = 3\n",
    "ax.set_xlim([-k*5,k*5])\n",
    "ax.set_ylim([-k*5,k*5])\n",
    "ax.grid(True)\n",
    "plt.show()"
   ]
  },
  {
   "cell_type": "code",
   "execution_count": 11,
   "metadata": {},
   "outputs": [
    {
     "data": {
      "image/png": "[encoded data removed]",
      "text/plain": [
       "<Figure size 640x480 with 1 Axes>"
      ]
     },
     "metadata": {},
     "output_type": "display_data"
    }
   ],
   "source": [
    "## Euler integration\n",
    "tf = 2\n",
    "dt = tf/1000\n",
    "its = int(tf/dt)\n",
    "\n",
    "fig, ax = plt.subplots()\n",
    "\n",
    "if hx-omega == 0 and hy+omega == 0:\n",
    "    x0_list = [[2,1.1], [-1,0], [2,2], [-2,2]]\n",
    "elif hx-omega != 0 and hy+omega !=0:\n",
    "    x0_list = [[1.5,-1], [-1.5,-1], [2,1], [-3,1]]\n",
    "elif hx-omega != 0:\n",
    "    x0_list = [[-1,-0.5], [-1,1], [1,0.25], [4,-2]]\n",
    "\n",
    "for x0 in x0_list:\n",
    "    x_data = []\n",
    "    x = np.array(x0)[:,None]\n",
    "    for it in range(its):\n",
    "        x_data.append(x)\n",
    "        x = x + A@x*dt\n",
    "    x_data = np.squeeze(np.array(x_data)).T\n",
    "    ax.plot(x_data[0,:], x_data[1,:])\n",
    "    ax.plot(x_data[0,0], x_data[1,0], \"kx\")\n",
    "\n",
    "ax.set_xlim([-5,5])\n",
    "ax.set_ylim([-5,5])\n",
    "ax.grid(True)\n",
    "plt.show()"
   ]
  },
  {
   "cell_type": "markdown",
   "metadata": {},
   "source": [
    "## Diagonalization of $(I_n \\otimes A)$"
   ]
  },
  {
   "cell_type": "code",
   "execution_count": 55,
   "metadata": {},
   "outputs": [
    {
     "data": {
      "text/plain": [
       "(array([1., 1., 1., 1.]),\n",
       " array([[1., 0., 0., 0.],\n",
       "        [0., 1., 0., 0.],\n",
       "        [0., 0., 1., 0.],\n",
       "        [0., 0., 0., 1.]]))"
      ]
     },
     "execution_count": 55,
     "metadata": {},
     "output_type": "execute_result"
    }
   ],
   "source": [
    "LA.eig(np.eye(4))"
   ]
  },
  {
   "cell_type": "code",
   "execution_count": 125,
   "metadata": {},
   "outputs": [
    {
     "name": "stdout",
     "output_type": "stream",
     "text": [
      "[[ 0.         -0.70710678  0.         -0.          0.         -0.\n",
      "   0.         -0.        ]\n",
      " [ 0.70710678  0.          0.          0.          0.          0.\n",
      "   0.          0.        ]\n",
      " [ 0.         -0.          0.         -0.70710678  0.         -0.\n",
      "   0.         -0.        ]\n",
      " [ 0.          0.          0.70710678  0.          0.          0.\n",
      "   0.          0.        ]\n",
      " [ 0.         -0.          0.         -0.          0.         -0.70710678\n",
      "   0.         -0.        ]\n",
      " [ 0.          0.          0.          0.          0.70710678  0.\n",
      "   0.          0.        ]\n",
      " [ 0.         -0.          0.         -0.          0.         -0.\n",
      "   0.         -0.70710678]\n",
      " [ 0.          0.          0.          0.          0.          0.\n",
      "   0.70710678  0.        ]]\n",
      "------- Predicted\n",
      "u_1 = 0.000+0.707j --  [0.   +0.707j 0.707+0.j   ]\n",
      "u_2 = 0.000-0.707j --  [ 0.   +0.707j -0.707+0.j   ]\n",
      "------- Computed\n",
      "lambdas:  [0.+0.707j 0.-0.707j 0.+0.707j 0.-0.707j 0.+0.707j 0.-0.707j 0.+0.707j\n",
      " 0.-0.707j]\n",
      "V = \n",
      " [[0.707+0.j    0.707-0.j    0.   +0.j    0.   -0.j    0.   +0.j\n",
      "  0.   -0.j    0.   +0.j    0.   -0.j   ]\n",
      " [0.   -0.707j 0.   +0.707j 0.   +0.j    0.   -0.j    0.   +0.j\n",
      "  0.   -0.j    0.   +0.j    0.   -0.j   ]\n",
      " [0.   +0.j    0.   -0.j    0.707+0.j    0.707-0.j    0.   +0.j\n",
      "  0.   -0.j    0.   +0.j    0.   -0.j   ]\n",
      " [0.   +0.j    0.   -0.j    0.   -0.707j 0.   +0.707j 0.   +0.j\n",
      "  0.   -0.j    0.   +0.j    0.   -0.j   ]\n",
      " [0.   +0.j    0.   -0.j    0.   +0.j    0.   -0.j    0.707+0.j\n",
      "  0.707-0.j    0.   +0.j    0.   -0.j   ]\n",
      " [0.   +0.j    0.   -0.j    0.   +0.j    0.   -0.j    0.   -0.707j\n",
      "  0.   +0.707j 0.   +0.j    0.   -0.j   ]\n",
      " [0.   +0.j    0.   -0.j    0.   +0.j    0.   -0.j    0.   +0.j\n",
      "  0.   -0.j    0.707+0.j    0.707-0.j   ]\n",
      " [0.   +0.j    0.   -0.j    0.   +0.j    0.   -0.j    0.   +0.j\n",
      "  0.   -0.j    0.   -0.707j 0.   +0.707j]]\n"
     ]
    }
   ],
   "source": [
    "a = 0\n",
    "omega = 1/np.sqrt(2)\n",
    "hx = 0\n",
    "hy = 0\n",
    "\n",
    "A = a*np.eye(2) + omega*np.array([[0,-1],[1,0]]) + np.array([[0,hx],[hy,0]])\n",
    "\n",
    "n = 4\n",
    "A_bar = np.kron(np.eye(n),A)\n",
    "\n",
    "# Predicted eigen values and eigenvectors\n",
    "lambda1 = a + np.sqrt((hx - omega)*(hy + omega) + 0j)\n",
    "lambda2 = a - np.sqrt((hx - omega)*(hy + omega) + 0j)\n",
    "\n",
    "if hx-omega == 0 and hy+omega == 0: # The matrix is already diagonal\n",
    "    v1 = np.array([1, 0])\n",
    "    v2 = np.array([0, 1])\n",
    "elif hx-omega != 0 and hy+omega !=0: # Diagonalizable\n",
    "    a = np.sqrt(hx - omega + 0j)\n",
    "    b = np.sqrt(hy + omega + 0j)\n",
    "    denom = np.sqrt(a*np.conj(a) + b*np.conj(b))\n",
    "\n",
    "    v1 = np.array([a,  b])/denom\n",
    "    v2 = np.array([a, -b])/denom\n",
    "elif hx-omega != 0: # Not diagonalizable (we need 2 generalized eigenvectors)\n",
    "    v1 = np.array([1, 0])\n",
    "    v2 = np.array([0, 1/(hx-omega)])\n",
    "else: # (hy+omega != 0) Not diagonalizable (we need 2 generalized eigenvectors)\n",
    "    v1 = np.array([0, 1])\n",
    "    v2 = np.array([1/(hy+omega), 0])\n",
    "\n",
    "print(A_bar)\n",
    "print(\"------- Predicted\")\n",
    "with np.printoptions(precision=3, suppress=True):\n",
    "    print(\"u_1 = {:.3f} -- \".format(lambda1), v1)\n",
    "    print(\"u_2 = {:.3f} -- \".format(lambda2), v2)\n",
    "\n",
    "# Comparing with the computed eigen values and eigenvectors\n",
    "print(\"------- Computed\")\n",
    "lambdas_c, V_c = LA.eig(A_bar)\n",
    "with np.printoptions(precision=3, suppress=True):\n",
    "    print(\"lambdas: \", lambdas_c)\n",
    "    print(\"V = \\n\", V_c)"
   ]
  },
  {
   "cell_type": "code",
   "execution_count": 18,
   "metadata": {},
   "outputs": [
    {
     "data": {
      "text/plain": [
       "array([[0.+0.j],\n",
       "       [0.+0.j],\n",
       "       [0.+0.j],\n",
       "       [0.+0.j],\n",
       "       [0.+0.j],\n",
       "       [0.+0.j],\n",
       "       [0.+0.j],\n",
       "       [0.+0.j]])"
      ]
     },
     "execution_count": 18,
     "metadata": {},
     "output_type": "execute_result"
    }
   ],
   "source": [
    "(A_bar - np.eye(2*n)*lambda1) @ V_c[:,0:1]"
   ]
  },
  {
   "cell_type": "markdown",
   "metadata": {},
   "source": [
    "## Diagonalization of $\\tilde L$"
   ]
  },
  {
   "cell_type": "markdown",
   "metadata": {},
   "source": [
    "### Square"
   ]
  },
  {
   "cell_type": "code",
   "execution_count": 310,
   "metadata": {},
   "outputs": [
    {
     "name": "stdout",
     "output_type": "stream",
     "text": [
      "Failed to dualize the problem: 'float' object is not iterable\n",
      "W (6, 6) = \n",
      " [[ 0.25  0.    0.    0.    0.    0.  ]\n",
      " [ 0.   -0.25  0.    0.    0.    0.  ]\n",
      " [ 0.    0.    0.25  0.    0.    0.  ]\n",
      " [ 0.    0.    0.   -0.25  0.    0.  ]\n",
      " [ 0.    0.    0.    0.    0.25  0.  ]\n",
      " [ 0.    0.    0.    0.    0.    0.25]]\n",
      "L (4, 4) = \n",
      " [[ 0.25 -0.25  0.25 -0.25]\n",
      " [-0.25  0.25 -0.25  0.25]\n",
      " [ 0.25 -0.25  0.25 -0.25]\n",
      " [-0.25  0.25 -0.25  0.25]]\n",
      " --------- Eigenvalues\n",
      "lambda_0 = -0.000000\n",
      "lambda_1 = -1.000000\n",
      "lambda_2 = 0.000000\n",
      "lambda_3 = -0.000000\n"
     ]
    }
   ],
   "source": [
    "## Parameters #####\n",
    "n = 4\n",
    "#Z = ((1,2), (2,3), (3,4), (4,1))\n",
    "Z = ((1,2), (1,3), (2,3), (2,4), (3,4), (4,1))\n",
    "p_star = np.array([[-1,-1], [-1,1], [1,1], [1,-1]]) # square\n",
    "p0 = [[-10,-3], [-5,-2], [10,4], [0,-5]]\n",
    "tf = 1\n",
    "h = 3\n",
    "kappa = 0.1\n",
    "K = np.eye(n)\n",
    "\n",
    "## Generate the simulation frame #####\n",
    "args = {\"n\":n, \"Z\":Z, \"p_star\":p_star, \"p0\":p0, \"tf\":tf, \"h\":h, \"kappa\":kappa, \"K\":K, \"debug\":True}\n",
    "sim_fr = sim_frame_affine_complex(**args)"
   ]
  },
  {
   "cell_type": "code",
   "execution_count": 131,
   "metadata": {},
   "outputs": [
    {
     "name": "stdout",
     "output_type": "stream",
     "text": [
      "L@1_n           =  [0. 0. 0. 0.]\n",
      "L@p^*           =  [-0.+0.j -0.+0.j  0.+0.j  0.-0.j]\n",
      "L@(Im(p^*) + i(Re(p^*)) =  [ 0.-0.j  0.-0.j  0.+0.j -0.+0.j]\n",
      " ------------ \n"
     ]
    }
   ],
   "source": [
    "## Eigenvectors that generates Ker(L) #####\n",
    "sim_fr.check_eigen_vectors()"
   ]
  },
  {
   "cell_type": "code",
   "execution_count": 313,
   "metadata": {},
   "outputs": [
    {
     "name": "stdout",
     "output_type": "stream",
     "text": [
      "M (4, 6) B.T (6, 4) K_inv (4, 4)\n",
      "mu_ij matrix:\n",
      " [[0.   0.55 0.   1.  ]\n",
      " [0.45 0.   0.   0.  ]\n",
      " [0.   1.   0.   0.55]\n",
      " [0.   0.   0.45 0.  ]]\n",
      "M:\n",
      " [[0.   0.55 0.   1.  ]\n",
      " [0.45 0.   0.   0.  ]\n",
      " [0.   1.   0.   0.55]\n",
      " [0.   0.   0.45 0.  ]]\n",
      "M@B^T@p_star_c [-2.-1.1j  0.+0.9j  2.+1.1j  0.-0.9j]\n",
      " --------- Eigenvalues L_mod\n",
      "lambda_0 = -2.800000\n",
      "lambda_1 = 0.131623\n",
      "lambda_2 = -0.000000\n",
      "lambda_3 = 0.068377\n",
      "--- Eigenvectors\n",
      "[[ 0.48  -0.627 -0.5    0.326]\n",
      " [-0.519  0.326 -0.5   -0.627]\n",
      " [ 0.48   0.627 -0.5   -0.326]\n",
      " [-0.519 -0.326 -0.5    0.627]]\n"
     ]
    }
   ],
   "source": [
    "## Set a desired velocity vector stack (v_f^*) #####\n",
    "vx = 0\n",
    "vy = 0\n",
    "a = 1\n",
    "omega = 0\n",
    "hx = +1\n",
    "hy = +0.1\n",
    "\n",
    "## Design the weights that gerenates such v_f^* #####\n",
    "mu_matrix_x = np.array([[0,0,0,-1], [0,0,-1,0], [0,1,0,0], [1,0,0,0]])/2\n",
    "mu_matrix_y = np.array([[0,-1,0,0], [1,0,0,0], [0,0,0,1], [0,0,-1,0]])/2\n",
    "\n",
    "mu_matrix_a = np.array([[0,1,0,1], [1,0,1,0], [0,1,0,1], [1,0,1,0]])/2\n",
    "#mu_matrix_a = np.array([[0,0,1,0], [0,0,0,1], [1,0,0,0], [0,1,0,0]])/2\n",
    "\n",
    "mu_matrix_w = np.array([[0,1,0,-1], [-1,0,1,0], [0,-1,0,1], [1,0,-1,0]])/2\n",
    "mu_matrix_hx = np.array([[0,0,0,1], [0,0,-1,0], [0,1,0,0], [-1,0,0,0]])/2\n",
    "mu_matrix_hy = np.array([[0,1,0,0], [-1,0,0,0], [0,0,0,1], [0,0,-1,0]])/2\n",
    "\n",
    "sim_fr.set_manual_mu(a*mu_matrix_a + omega*mu_matrix_w + hx*mu_matrix_hx + hy*mu_matrix_hy)\n",
    "\n",
    "print(\"--- Eigenvectors\")\n",
    "eg = LA.eig(-h*sim_fr.L_mod)\n",
    "with np.printoptions(precision=3, suppress=True):\n",
    "    print(eg[1][:,:])"
   ]
  },
  {
   "cell_type": "code",
   "execution_count": 314,
   "metadata": {},
   "outputs": [
    {
     "name": "stdout",
     "output_type": "stream",
     "text": [
      "----- M @ B.T\n",
      "[[ 1.55 -0.55  0.   -1.  ]\n",
      " [-0.45  0.45  0.    0.  ]\n",
      " [ 0.   -1.    1.55 -0.55]\n",
      " [ 0.    0.   -0.45  0.45]]\n",
      "\n",
      "----- Eigenvector of complex-conjugate eigenvalues | ((hx-omega) > 0)\n",
      "v1 =  [-0.627+0.j  0.326+0.j  0.627+0.j -0.326+0.j]\n",
      "test-v1 | kappa*M@B.T: [-0.+0.j  0.+0.j  0.+0.j  0.+0.j]\n",
      "test-v1 | -h*L_mod: [ 0.+0.j  0.+0.j  0.+0.j -0.+0.j]\n",
      "----\n",
      "test-v1 | -h*L: [ 0.+0.j -0.+0.j  0.+0.j  0.+0.j]\n"
     ]
    }
   ],
   "source": [
    "# Complex conjugate eigen values\n",
    "l1 = kappa*(a + np.sqrt((hx-omega)*(hy+omega) + 0j))\n",
    "l2 = kappa*(a - np.sqrt((hx-omega)*(hy+omega) + 0j))\n",
    "\n",
    "with np.printoptions(precision=3, suppress=True):\n",
    "    print(\"----- M @ B.T\")\n",
    "    print(sim_fr.M@sim_fr.B.T)\n",
    "    # print(\"----- \")\n",
    "    # eg = LA.eig(sim_fr.M@sim_fr.B.T)\n",
    "    # print(eg[0])\n",
    "    # print(eg[1][:,:])\n",
    "\n",
    "    # print(\"----- Eigen vector of +real eigenvalue\")\n",
    "    # alfa = -(-a - (hx + hy)/2)\n",
    "    # beta = (-a + (hx + hy)/2)\n",
    "    # x = np.array([alfa, beta, alfa, beta])\n",
    "    # print(x/np.sqrt(2*x[0]**2 + 2*x[1]**2))\n",
    "\n",
    "    ps_re = np.real(sim_fr.p_star_c)\n",
    "    ps_im = np.imag(sim_fr.p_star_c)\n",
    "    \n",
    "    if ((hx-omega) < 0):\n",
    "        print(\"\\n----- Eigenvector of complex-conjugate eigenvalues | ((hx-omega) < 0)\")\n",
    "        # beta = (hx+hy)/2 - np.sqrt((hx-omega)*(hy+omega) + 0j)\n",
    "        # alfa = -(-omega + (hx-hy)/2)\n",
    "        # v1 = np.array([alfa,beta,-alfa,-beta])\n",
    "        # v2 = np.conjugate(v1)\n",
    "\n",
    "        v1 = ((hx-hy)/2 - omega)*(ps_im + ps_re)/2 + ((hx+hy)/2 - np.sqrt((hx-omega)*(hy+omega) + 0j))*(ps_im - ps_re)/2\n",
    "        v2 = np.conjugate(v1)\n",
    "        \n",
    "        \n",
    "        print(\"v1 = \", v1/np.sqrt(2*v1[0]*np.conjugate(v1[0]) + 2*v1[1]*np.conjugate(v1[1])))\n",
    "        print(\"v2 = \", v2/np.sqrt(2*v2[0]*np.conjugate(v2[0]) + 2*v2[1]*np.conjugate(v2[1])))\n",
    "\n",
    "        print(\"test-v1 | kappa*M@B.T:\", (kappa*sim_fr.M@sim_fr.B.T - np.eye(4)*l1) @ v1)\n",
    "        print(\"test-v2 | kappa*M@B.T:\", (kappa*sim_fr.M@sim_fr.B.T - np.eye(4)*l2) @ v2)\n",
    "        print(\"test-v1 | -h*L_mod:\", (-h*sim_fr.L_mod - np.eye(4)*l1) @ v1)\n",
    "        print(\"test-v2 | -h*L_mod:\", (-h*sim_fr.L_mod - np.eye(4)*l2) @ v2)\n",
    "        print(\"----\")\n",
    "        print(\"test-v1 | -h*L:\", (-h*sim_fr.L) @ v1)\n",
    "        print(\"test-v2 | -h*L:\", (-h*sim_fr.L) @ v2)\n",
    "    else:\n",
    "        print(\"\\n----- Eigenvector of complex-conjugate eigenvalues | ((hx-omega) > 0)\")\n",
    "        beta = (hx+hy)/2 - np.sqrt((hx-omega)*(hy+omega) + 0j)\n",
    "        alfa = -(-omega + (hx-hy)/2)\n",
    "        v1 = np.array([alfa,beta,-alfa,-beta])\n",
    "        \n",
    "        v1 = ((hx-hy)/2 - omega)*(ps_im + ps_re)/2 + ((hx+hy)/2 - np.sqrt((hx-omega)*(hy+omega) + 0j))*(ps_im - ps_re)/2\n",
    "        \n",
    "        print(\"v1 = \", v1/np.sqrt(2*v1[0]*np.conjugate(v1[0]) + 2*v1[1]*np.conjugate(v1[1])))\n",
    "\n",
    "        print(\"test-v1 | kappa*M@B.T:\", (kappa*sim_fr.M@sim_fr.B.T - np.eye(n)*l1) @ v1)\n",
    "        print(\"test-v1 | -h*L_mod:\", (-h*sim_fr.L_mod - np.eye(n)*l1) @ v1)\n",
    "        print(\"----\")\n",
    "        print(\"test-v1 | -h*L:\", (-h*sim_fr.L) @ v1)\n",
    "    "
   ]
  },
  {
   "cell_type": "code",
   "execution_count": 7,
   "metadata": {},
   "outputs": [
    {
     "name": "stdout",
     "output_type": "stream",
     "text": [
      "[-0.3 -1.7  0.3  1.7]\n",
      "[-2.2 -0.2  2.2  0.2]\n"
     ]
    }
   ],
   "source": [
    "# We have the explicit form of the eigen values and eigen vectors. Now,\n",
    "# let's see if we can connect them with the Kernel of L (1_n, p^*, ...)\n",
    "\n",
    "print(sim_fr.M@sim_fr.B.T@np.real(sim_fr.p_star_c))\n",
    "print(sim_fr.M@sim_fr.B.T@np.imag(sim_fr.p_star_c))"
   ]
  },
  {
   "cell_type": "code",
   "execution_count": 8,
   "metadata": {},
   "outputs": [
    {
     "name": "stdout",
     "output_type": "stream",
     "text": [
      "[1.+0.9165j 1.-0.9165j]\n",
      "------\n",
      "[-0.2-0.3j  0.2-0.3j  0.2+0.3j -0.2+0.3j]\n",
      "------\n",
      "[-0.3-0.2j  0.3+0.2j  0.3+0.2j -0.3-0.2j]\n",
      "[-0.2-0.3j  0.2+0.3j  0.2+0.3j -0.2-0.3j]\n",
      "------\n",
      "[-0.3-2.2j -1.7-0.2j  0.3+2.2j  1.7+0.2j]\n",
      "[-0.3-2.2j -1.7-0.2j  0.3+2.2j  1.7+0.2j]\n",
      "[ 2.2+0.3j  0.2+1.7j -2.2-0.3j -0.2-1.7j]\n"
     ]
    }
   ],
   "source": [
    "l1 = kappa*(a + np.sqrt((hx-omega)*(hy+omega) + 0j))\n",
    "l2 = kappa*(a - np.sqrt((hx-omega)*(hy+omega) + 0j))\n",
    "\n",
    "with np.printoptions(precision=4, suppress=True):\n",
    "    print(np.array([l1,l2]))\n",
    "    print(\"------\")\n",
    "    print(hy*np.imag(sim_fr.p_star_c) + 1j*hx*np.real(sim_fr.p_star_c))\n",
    "\n",
    "    print(\"------\")\n",
    "    v = np.real(-sim_fr.p_star_c*1j)\n",
    "    print((hx + hy*1j) * v)\n",
    "    print((hy + hx*1j) * v)\n",
    "\n",
    "    print(\"------\")\n",
    "    vf = (a + 1j*omega)*sim_fr.p_star_c + hx*np.imag(sim_fr.p_star_c) + 1j*hy*np.real(sim_fr.p_star_c)\n",
    "    \n",
    "    print(vf)\n",
    "    #print(sim_fr.M@sim_fr.B.T @ sim_fr.p_star_c)\n",
    "    print((sim_fr.L_mod*h) @ -sim_fr.p_star_c)\n",
    "    print((sim_fr.L_mod*h) @ (np.imag(sim_fr.p_star_c) + 1j*np.real(sim_fr.p_star_c)))"
   ]
  },
  {
   "cell_type": "code",
   "execution_count": 10,
   "metadata": {},
   "outputs": [
    {
     "name": "stdout",
     "output_type": "stream",
     "text": [
      "[ 0.+0.j  0.+0.j -0.+0.j  0.-0.j]\n",
      "[-0.3-0.2j  0.3-0.2j  0.3+0.2j -0.3+0.2j]\n",
      "[-2.  0.  2. -0.]\n",
      "[ 0. -2. -0.  2.]\n"
     ]
    }
   ],
   "source": [
    "# hx * Im(p^*) + i hy Re(p^*)\n",
    "with np.printoptions(precision=4, suppress=True):\n",
    "      print((sim_fr.M @ sim_fr.B.T) @ sim_fr.p_star_c \\\n",
    "            - ((a + 1j*omega)*sim_fr.p_star_c + hx*np.imag(sim_fr.p_star_c) + 1j*hy*np.real(sim_fr.p_star_c)))\n",
    "      print((sim_fr.M @ sim_fr.B.T) @ sim_fr.p_star_c - ((a + 1j*omega)*sim_fr.p_star_c ))\n",
    "      print((sim_fr.M @ sim_fr.B.T) @ np.real(-sim_fr.p_star_c*1j) - hy*np.real(sim_fr.p_star_c) )\n",
    "      print((sim_fr.M @ sim_fr.B.T) @ np.imag(sim_fr.p_star_c*1j) - hx*np.imag(sim_fr.p_star_c) )"
   ]
  },
  {
   "cell_type": "markdown",
   "metadata": {},
   "source": [
    "### Trapezoid"
   ]
  },
  {
   "cell_type": "code",
   "execution_count": 302,
   "metadata": {},
   "outputs": [
    {
     "name": "stdout",
     "output_type": "stream",
     "text": [
      "Failed to dualize the problem: 'float' object is not iterable\n",
      "W (6, 6) = \n",
      " [[ 0.2  0.   0.   0.   0.   0. ]\n",
      " [ 0.  -0.2  0.   0.   0.   0. ]\n",
      " [ 0.   0.   0.1  0.   0.   0. ]\n",
      " [ 0.   0.   0.  -0.2  0.   0. ]\n",
      " [ 0.   0.   0.   0.   0.2  0. ]\n",
      " [ 0.   0.   0.   0.   0.   0.4]]\n",
      "L (4, 4) = \n",
      " [[ 0.4 -0.2  0.2 -0.4]\n",
      " [-0.2  0.1 -0.1  0.2]\n",
      " [ 0.2 -0.1  0.1 -0.2]\n",
      " [-0.4  0.2 -0.2  0.4]]\n",
      " --------- Eigenvalues\n",
      "lambda_0 = -1.000000\n",
      "lambda_1 = 0.000000\n",
      "lambda_2 = -0.000000\n",
      "lambda_3 = -0.000000\n"
     ]
    }
   ],
   "source": [
    "## Parameters #####\n",
    "n = 4\n",
    "#Z = ((1,2), (2,3), (3,4), (4,1))\n",
    "Z = ((1,2), (1,3), (2,3), (2,4), (3,4), (4,1))\n",
    "p_star = np.array([[-1,-1], [-2,2], [2,2], [1,-1]]) # square\n",
    "p0 = [[-10,-3], [-5,-2], [10,4], [0,-5]]\n",
    "tf = 1\n",
    "h = 3\n",
    "kappa = 0.1\n",
    "K = np.eye(n)\n",
    "\n",
    "## Generate the simulation frame #####\n",
    "args = {\"n\":n, \"Z\":Z, \"p_star\":p_star, \"p0\":p0, \"tf\":tf, \"h\":h, \"kappa\":kappa, \"K\":K, \"debug\":True}\n",
    "sim_fr = sim_frame_affine_complex(**args)"
   ]
  },
  {
   "cell_type": "code",
   "execution_count": 308,
   "metadata": {},
   "outputs": [
    {
     "name": "stdout",
     "output_type": "stream",
     "text": [
      "M (4, 6) B.T (6, 4) K_inv (4, 4)\n",
      "mu_ij matrix:\n",
      " [[ 0.    0.37  0.33  0.68]\n",
      " [-0.73  0.   -0.32  0.67]\n",
      " [ 0.67  0.32  0.    0.73]\n",
      " [-0.68  0.33 -0.37  0.  ]]\n",
      "M:\n",
      " [[ 0.    0.37  0.33  0.68]\n",
      " [-0.73  0.   -0.32  0.67]\n",
      " [ 0.67  0.32  0.    0.73]\n",
      " [-0.68  0.33 -0.37  0.  ]]\n",
      "M@B^T@p_star_c [-2.-2.1j  0.-0.2j  4.+4.2j -0.+0.1j]\n",
      " --------- Eigenvalues L_mod\n",
      "lambda_0 = -3.000000\n",
      "lambda_1 = 0.204881\n",
      "lambda_2 = -0.000000\n",
      "lambda_3 = -0.004881\n",
      "--- Eigenvectors\n",
      "[[ 0.587 -0.447  0.5   -0.011]\n",
      " [-0.352 -0.021  0.5   -0.894]\n",
      " [ 0.292  0.894  0.5    0.021]\n",
      " [-0.668  0.011  0.5    0.447]]\n"
     ]
    }
   ],
   "source": [
    "## Set a desired velocity vector stack (v_f^*) #####\n",
    "vx = 0\n",
    "vy = 0\n",
    "a = 1\n",
    "omega = 0\n",
    "hx = 1\n",
    "hy = 1.1\n",
    "\n",
    "## Design the weights that gerenates such v_f^* #####\n",
    "# mu_matrix_x = np.array([[0,0,0,-1], [0,0,-1,0], [0,1,0,0], [1,0,0,0]])/2\n",
    "# mu_matrix_y = np.array([[0,-1,0,0], [1,0,0,0], [0,0,0,1], [0,0,-1,0]])/2\n",
    "\n",
    "mu_matrix_a = np.array([[0,0,1,0], [0,0,0,2], [2,0,0,0], [0,1,0,0]])/3\n",
    "mu_matrix_w = np.array([[0,1,0,-1], [-2,0,2,0], [0,-2,0,2], [1,0,-1,0]])/3\n",
    "mu_matrix_hx = np.array([[0,0,0,1], [0,0,-2/2,0], [0,2/2,0,0], [-1,0,0,0]])/2\n",
    "mu_matrix_hy = np.array([[0,1,0,1/2], [-2,0,2/4,0], [0,-2/4,0,2], [-1/2,0,-1,0]])/3\n",
    "\n",
    "sim_fr.set_manual_mu(a*mu_matrix_a + omega*mu_matrix_w + hx*mu_matrix_hx + hy*mu_matrix_hy)\n",
    "\n",
    "print(\"--- Eigenvectors\")\n",
    "eg = LA.eig(-h*sim_fr.L_mod)\n",
    "with np.printoptions(precision=3, suppress=True):\n",
    "    print(eg[1][:,:])"
   ]
  },
  {
   "cell_type": "code",
   "execution_count": 309,
   "metadata": {},
   "outputs": [
    {
     "name": "stdout",
     "output_type": "stream",
     "text": [
      "----- M @ B.T\n",
      "[[ 1.383 -0.367 -0.333 -0.683]\n",
      " [ 0.733 -0.383  0.317 -0.667]\n",
      " [-0.667 -0.317  1.717 -0.733]\n",
      " [ 0.683 -0.333  0.367 -0.717]]\n",
      "\n",
      "----- Eigenvector of complex-conjugate eigenvalues | ((hx-omega) > 0)\n",
      "v1 =  [ 0.706+0.j  0.034+0.j -1.413+0.j -0.017+0.j]\n",
      "test-v1 | kappa*M@B.T: [ 0.+0.j  0.+0.j -0.+0.j -0.+0.j]\n",
      "test-v1 | -h*L_mod: [-0.+0.j  0.+0.j  0.+0.j -0.+0.j]\n",
      "----\n",
      "test-v1 | -h*L: [-0.+0.j -0.+0.j  0.+0.j -0.+0.j]\n"
     ]
    }
   ],
   "source": [
    "# Complex conjugate eigen values\n",
    "l1 = kappa*(a + np.sqrt((hx-omega)*(hy+omega) + 0j))\n",
    "l2 = kappa*(a - np.sqrt((hx-omega)*(hy+omega) + 0j))\n",
    "\n",
    "with np.printoptions(precision=3, suppress=True):\n",
    "    print(\"----- M @ B.T\")\n",
    "    print(sim_fr.M@sim_fr.B.T)\n",
    "    # print(\"----- \")\n",
    "    # eg = LA.eig(sim_fr.M@sim_fr.B.T)\n",
    "    # print(eg[0])\n",
    "    # print(eg[1][:,:])\n",
    "\n",
    "    # print(\"----- Eigen vector of +real eigenvalue\")\n",
    "    # alfa = -(-a - (hx + hy)/2)\n",
    "    # beta = (-a + (hx + hy)/2)\n",
    "    # x = np.array([alfa, beta, alfa, beta])\n",
    "    # print(x/np.sqrt(2*x[0]**2 + 2*x[1]**2))\n",
    "\n",
    "    if ((hx-omega) < 0):\n",
    "        print(\"\\n----- Eigenvector of complex-conjugate eigenvalues | ((hx-omega) < 0)\")\n",
    "        ps_re = np.real(sim_fr.p_star_c)\n",
    "        ps_im = np.imag(sim_fr.p_star_c)\n",
    "\n",
    "        v1 = ((hx-hy)/2 - omega)*(ps_im + ps_re)/2 + ((hx+hy)/2 - np.sqrt((hx-omega)*(hy+omega) + 0j))*(ps_im - ps_re)/2\n",
    "        v2 = np.conjugate(v1)\n",
    "        \n",
    "        print(\"v1 = \", v1/np.sqrt(2*v1[0]*np.conjugate(v1[0]) + 2*v1[1]*np.conjugate(v1[1])))\n",
    "        print(\"v2 = \", v2/np.sqrt(2*v2[0]*np.conjugate(v2[0]) + 2*v2[1]*np.conjugate(v2[1])))\n",
    "\n",
    "        print(\"test-v1 | kappa*M@B.T:\", (kappa*sim_fr.M@sim_fr.B.T - np.eye(4)*l1) @ v1)\n",
    "        print(\"test-v2 | kappa*M@B.T:\", (kappa*sim_fr.M@sim_fr.B.T - np.eye(4)*l2) @ v2)\n",
    "        print(\"test-v1 | -h*L_mod:\", (-h*sim_fr.L_mod - np.eye(4)*l1) @ v1)\n",
    "        print(\"test-v2 | -h*L_mod:\", (-h*sim_fr.L_mod - np.eye(4)*l2) @ v2)\n",
    "        print(\"----\")\n",
    "        print(\"test-v1 | -h*L:\", (-h*sim_fr.L) @ v1)\n",
    "        print(\"test-v2 | -h*L:\", (-h*sim_fr.L) @ v2)\n",
    "    else:\n",
    "        print(\"\\n----- Eigenvector of complex-conjugate eigenvalues | ((hx-omega) > 0)\")\n",
    "        ps_re = np.real(sim_fr.p_star_c)\n",
    "        ps_im = np.imag(sim_fr.p_star_c)\n",
    "        v1 = ((hx-hy)/2 - omega)*(ps_im + ps_re)/2 + ((hx+hy)/2 - np.sqrt((hx-omega)*(hy+omega) + 0j))*(ps_im - ps_re)/2\n",
    "        \n",
    "        print(\"v1 = \", v1/np.sqrt(2*v1[0]*np.conjugate(v1[0]) + 2*v1[1]*np.conjugate(v1[1])))\n",
    "\n",
    "        print(\"test-v1 | kappa*M@B.T:\", (kappa*sim_fr.M@sim_fr.B.T - np.eye(4)*l1) @ v1)\n",
    "        print(\"test-v1 | -h*L_mod:\", (-h*sim_fr.L_mod - np.eye(4)*l1) @ v1)\n",
    "        print(\"----\")\n",
    "        print(\"test-v1 | -h*L:\", (-h*sim_fr.L) @ v1)\n",
    "    "
   ]
  },
  {
   "cell_type": "markdown",
   "metadata": {},
   "source": [
    "## Diagonalization of $\\tilde L \\otimes I_m$"
   ]
  },
  {
   "cell_type": "code",
   "execution_count": 83,
   "metadata": {},
   "outputs": [
    {
     "name": "stdout",
     "output_type": "stream",
     "text": [
      "Failed to dualize the problem: 'float' object is not iterable\n",
      "W (6, 6) = \n",
      " [[ 0.25  0.    0.    0.    0.    0.  ]\n",
      " [ 0.   -0.25  0.    0.    0.    0.  ]\n",
      " [ 0.    0.    0.25  0.    0.    0.  ]\n",
      " [ 0.    0.    0.   -0.25  0.    0.  ]\n",
      " [ 0.    0.    0.    0.    0.25  0.  ]\n",
      " [ 0.    0.    0.    0.    0.    0.25]]\n",
      "L (8, 8) = \n",
      " [[ 0.25  0.   -0.25 -0.    0.25  0.   -0.25 -0.  ]\n",
      " [ 0.    0.25 -0.   -0.25  0.    0.25 -0.   -0.25]\n",
      " [-0.25 -0.    0.25  0.   -0.25 -0.    0.25  0.  ]\n",
      " [-0.   -0.25  0.    0.25 -0.   -0.25  0.    0.25]\n",
      " [ 0.25  0.   -0.25 -0.    0.25  0.   -0.25 -0.  ]\n",
      " [ 0.    0.25 -0.   -0.25  0.    0.25 -0.   -0.25]\n",
      " [-0.25 -0.    0.25  0.   -0.25 -0.    0.25  0.  ]\n",
      " [-0.   -0.25  0.    0.25 -0.   -0.25  0.    0.25]]\n",
      "bar B^T (12, 8) = \n",
      " [[-1. -0.  1.  0.  0.  0.  0.  0.]\n",
      " [-0. -1.  0.  1.  0.  0.  0.  0.]\n",
      " [-1. -0.  0.  0.  1.  0.  0.  0.]\n",
      " [-0. -1.  0.  0.  0.  1.  0.  0.]\n",
      " [ 0.  0. -1. -0.  1.  0.  0.  0.]\n",
      " [ 0.  0. -0. -1.  0.  1.  0.  0.]\n",
      " [ 0.  0. -1. -0.  0.  0.  1.  0.]\n",
      " [ 0.  0. -0. -1.  0.  0.  0.  1.]\n",
      " [ 0.  0.  0.  0. -1. -0.  1.  0.]\n",
      " [ 0.  0.  0.  0. -0. -1.  0.  1.]\n",
      " [ 1.  0.  0.  0.  0.  0. -1. -0.]\n",
      " [ 0.  1.  0.  0.  0.  0. -0. -1.]]\n",
      " --------- Eigen values\n",
      "lambda_0 = 0.000000+0.000000j\n",
      "lambda_1 = -1.000000+0.000000j\n",
      "lambda_2 = -0.000000+0.000000j\n",
      "lambda_3 = -1.000000+0.000000j\n",
      "lambda_4 = 0.000000+0.000000j\n",
      "lambda_5 = -0.000000+0.000000j\n",
      "lambda_6 = 0.000000+0.000000j\n",
      "lambda_7 = 0.000000-0.000000j\n"
     ]
    }
   ],
   "source": [
    "## Parameters #####\n",
    "n = 4\n",
    "#Z = ((1,2), (2,3), (3,4), (4,1))\n",
    "Z = ((1,2), (1,3), (2,3), (2,4), (3,4), (4,1))\n",
    "p_star = [[-1,-1], [-1,1], [1,1], [1,-1]] # square\n",
    "p0 = [[-10,-3], [-5,-2], [10,4], [0,-5]]\n",
    "tf = 2\n",
    "h = 2\n",
    "k= 0.1\n",
    "K = np.eye(n)\n",
    "\n",
    "## Generate the simulation frame #####\n",
    "args = {\"n\":n, \"Z\":Z, \"p_star\":p_star, \"p0\":p0, \"tf\":tf, \"h\":h, \"kappa\":k, \"K\":K, \"debug\":True}\n",
    "sim_fr = sim_frame_affine(**args)"
   ]
  },
  {
   "cell_type": "code",
   "execution_count": 84,
   "metadata": {},
   "outputs": [
    {
     "name": "stdout",
     "output_type": "stream",
     "text": [
      "1j\n"
     ]
    }
   ],
   "source": [
    "a = 0\n",
    "omega = 1\n",
    "hx = 0\n",
    "hy = 0\n",
    "\n",
    "A = a*np.eye(2) + omega/np.sqrt(2)*np.array([[0,-1],[1,0]]) + np.array([[0,hx],[hy,0]])\n",
    "\n",
    "n = 4\n",
    "A_bar = np.kron(np.eye(n),A)\n",
    "\n",
    "# Predicted eigen values and eigenvectors\n",
    "lambda1 = a + np.sqrt((hx - omega)*(hy + omega) + 0j)\n",
    "lambda2 = a - np.sqrt((hx - omega)*(hy + omega) + 0j)\n",
    "\n",
    "if hx-omega == 0 and hy+omega == 0: # The matrix is already diagonal\n",
    "    v1 = np.array([1, 0])\n",
    "    v2 = np.array([0, 1])\n",
    "elif hx-omega != 0 and hy+omega !=0: # Diagonalizable\n",
    "    x = np.sqrt(hx - omega + 0j)\n",
    "    y = np.sqrt(hy + omega + 0j)\n",
    "    denom = np.sqrt(x*np.conj(x) + y*np.conj(y))\n",
    "\n",
    "    v1 = np.array([x,  y])/denom\n",
    "    v2 = np.array([x, -y])/denom\n",
    "elif hx-omega != 0: # Not diagonalizable (we need 2 generalized eigenvectors)\n",
    "    v1 = np.array([1, 0])\n",
    "    v2 = np.array([0, 1/(hx-omega)])\n",
    "else: # (hy+omega != 0) Not diagonalizable (we need 2 generalized eigenvectors)\n",
    "    v1 = np.array([0, 1])\n",
    "    v2 = np.array([1/(hy+omega), 0])\n",
    "\n",
    "print(lambda1)"
   ]
  },
  {
   "cell_type": "code",
   "execution_count": 108,
   "metadata": {},
   "outputs": [
    {
     "name": "stdout",
     "output_type": "stream",
     "text": [
      "M (8, 12) B.T (6, 4) K_inv (8, 8)\n",
      "mu_ij matrix:\n",
      " [[ 0.  0.  1.  0.  0.  0. -1.  0.]\n",
      " [ 0.  0.  0.  1.  0.  0.  0. -1.]\n",
      " [-1.  0.  0.  0.  1.  0.  0.  0.]\n",
      " [ 0. -1.  0.  0.  0.  1.  0.  0.]\n",
      " [ 0.  0. -1.  0.  0.  0.  1.  0.]\n",
      " [ 0.  0.  0. -1.  0.  0.  0.  1.]\n",
      " [ 1.  0.  0.  0. -1.  0.  0.  0.]\n",
      " [ 0.  1.  0.  0.  0. -1.  0.  0.]]\n",
      "M:\n",
      " [[ 0.  0.  1.  0.  0.  0. -1.  0.]\n",
      " [ 0.  0.  0.  1.  0.  0.  0. -1.]\n",
      " [-1.  0.  0.  0.  1.  0.  0.  0.]\n",
      " [ 0. -1.  0.  0.  0.  1.  0.  0.]\n",
      " [ 0.  0. -1.  0.  0.  0.  1.  0.]\n",
      " [ 0.  0.  0. -1.  0.  0.  0.  1.]\n",
      " [ 1.  0.  0.  0. -1.  0.  0.  0.]\n",
      " [ 0.  1.  0.  0.  0. -1.  0.  0.]]\n",
      "M^bar@B^T^bar@p_star [ 2. -2. -2. -2. -2.  2.  2.  2.]\n",
      " --------- Eigen values L_mod\n",
      "lambda_0 = -0.000000+0.100000j\n",
      "lambda_1 = -0.000000-0.100000j\n",
      "lambda_2 = 0.000000+0.000000j\n",
      "lambda_3 = -1.000000+0.000000j\n",
      "lambda_4 = -1.000000+0.000000j\n",
      "lambda_5 = -0.000000+0.100000j\n",
      "lambda_6 = -0.000000-0.100000j\n",
      "lambda_7 = 0.000000+0.000000j\n"
     ]
    }
   ],
   "source": [
    "#sim_fr.set_velocity(1, 0, 0, 0, 0, 0)\n",
    "\n",
    "mu_matrix_x = np.array([[0,0,0,-1], [0,0,-1,0], [0,1,0,0], [1,0,0,0]])/2\n",
    "mu_matrix_x = np.kron(mu_matrix_x, np.eye(2))\n",
    "\n",
    "mu_matrix_y = np.array([[0,-1,0,0], [1,0,0,0], [0,0,0,1], [0,0,-1,0]])/2\n",
    "mu_matrix_y = np.kron(mu_matrix_y, np.eye(2))\n",
    "\n",
    "mu_matrix_a = np.array([[0,1,0,1], [1,0,1,0], [0,1,0,1], [1,0,1,0]])/4*np.sqrt(2)\n",
    "mu_matrix_a = np.kron(mu_matrix_a, np.eye(2))\n",
    "\n",
    "mu_matrix_w = np.array([[0,1,0,-1], [-1,0,1,0], [0,-1,0,1], [1,0,-1,0]])\n",
    "mu_matrix_w = np.kron(mu_matrix_w, np.eye(2))\n",
    "\n",
    "#mu_matrix_hx = np.array([[0,1,0,-1], [-1,0,1,0], [0,-1,0,1], [1,0,-1,0]])/2\n",
    "\n",
    "sim_fr.set_manual_mu(a*mu_matrix_a + omega*mu_matrix_w, True)"
   ]
  },
  {
   "cell_type": "code",
   "execution_count": 91,
   "metadata": {},
   "outputs": [
    {
     "name": "stdout",
     "output_type": "stream",
     "text": [
      "[ 0.5  0.5  0.5 -0.5 -0.5 -0.5 -0.5  0.5]\n",
      "[ 0.5  0.5  0.5 -0.5 -0.5 -0.5 -0.5  0.5]\n"
     ]
    }
   ],
   "source": [
    "# Interesting property\n",
    "W = np.kron(np.eye(n),np.array([[0,-1],[1,0]]))\n",
    "print(sim_fr.M @ sim_fr.B_bar_T @ (W @ (sim_fr.p_star)))\n",
    "print(W @ sim_fr.M @ sim_fr.B_bar_T @ sim_fr.p_star )"
   ]
  },
  {
   "cell_type": "code",
   "execution_count": 42,
   "metadata": {},
   "outputs": [],
   "source": [
    "ones_complex = np.kron(np.ones(n), [1,1j])"
   ]
  },
  {
   "cell_type": "code",
   "execution_count": 45,
   "metadata": {},
   "outputs": [
    {
     "data": {
      "text/plain": [
       "array([ 1., -1., -1., -1., -1.,  1.,  1.,  1.])"
      ]
     },
     "execution_count": 45,
     "metadata": {},
     "output_type": "execute_result"
    }
   ],
   "source": [
    "np.kron(np.eye(n),np.array([[0,-1],[1,0]]))@(sim_fr.p_star)"
   ]
  },
  {
   "cell_type": "code",
   "execution_count": 72,
   "metadata": {},
   "outputs": [
    {
     "data": {
      "text/plain": [
       "array([-1.+0.j,  0.+1.j,  1.+0.j,  0.+1.j,  1.+0.j, -0.-1.j, -1.+0.j,\n",
       "       -0.-1.j])"
      ]
     },
     "execution_count": 72,
     "metadata": {},
     "output_type": "execute_result"
    }
   ],
   "source": [
    "-np.kron(np.eye(n),np.array([[0,-1],[1,0]]))@(sim_fr.p_star)*ones_complex "
   ]
  },
  {
   "cell_type": "code",
   "execution_count": 76,
   "metadata": {},
   "outputs": [
    {
     "data": {
      "text/plain": [
       "array([ 0.025+0.j   ,  0.   +0.025j,  0.025+0.j   ,  0.   -0.025j,\n",
       "       -0.025+0.j   ,  0.   -0.025j, -0.025+0.j   ,  0.   +0.025j])"
      ]
     },
     "execution_count": 76,
     "metadata": {},
     "output_type": "execute_result"
    }
   ],
   "source": [
    "(-sim_fr.p_star*ones_complex)*(0.025)"
   ]
  },
  {
   "cell_type": "code",
   "execution_count": 80,
   "metadata": {},
   "outputs": [
    {
     "data": {
      "text/plain": [
       "array([-0.   -0.025j, -0.025+0.j   ,  0.   +0.025j, -0.025+0.j   ,\n",
       "        0.   +0.025j,  0.025-0.j   , -0.   -0.025j,  0.025-0.j   ])"
      ]
     },
     "execution_count": 80,
     "metadata": {},
     "output_type": "execute_result"
    }
   ],
   "source": [
    "-np.kron(np.eye(n),np.array([[0,-1],[1,0]]))@(sim_fr.p_star)*ones_complex * (0.025j)"
   ]
  },
  {
   "cell_type": "code",
   "execution_count": 77,
   "metadata": {},
   "outputs": [
    {
     "name": "stdout",
     "output_type": "stream",
     "text": [
      "[-0.025+0.j     0.   +0.025j  0.025+0.j     0.   +0.025j  0.025+0.j\n",
      "  0.   -0.025j -0.025+0.j     0.   -0.025j]\n",
      "[ 0.025+0.j     0.   +0.025j  0.025+0.j     0.   -0.025j -0.025+0.j\n",
      "  0.   -0.025j -0.025+0.j     0.   +0.025j]\n"
     ]
    }
   ],
   "source": [
    "with np.printoptions(precision=4, suppress=True):\n",
    "    print((sim_fr.L_mod) @ (sim_fr.p_star*ones_complex))\n",
    "    print((sim_fr.L_mod) @ (-np.kron(np.eye(n),np.array([[0,-1],[1,0]]))@(sim_fr.p_star)*ones_complex ))"
   ]
  },
  {
   "cell_type": "code",
   "execution_count": 16,
   "metadata": {},
   "outputs": [
    {
     "name": "stdout",
     "output_type": "stream",
     "text": [
      "[-0.025  0.025  0.025  0.025  0.025 -0.025 -0.025 -0.025]\n",
      "[-0.025 -0.025 -0.025  0.025  0.025  0.025  0.025 -0.025]\n",
      "[-0.005-0.005j -0.005-0.005j -0.005+0.005j -0.005+0.005j  0.005+0.005j\n",
      "  0.005+0.005j  0.005-0.005j  0.005-0.005j]\n",
      "[0. 0. 0. 0. 0. 0. 0. 0.]\n",
      "[0. 0. 0. 0. 0. 0. 0. 0.]\n"
     ]
    }
   ],
   "source": [
    "l1 = -0.000000+0.025000j # omega/4*np.sqrt(2)\n",
    "l2 = -1.000000+0.000000j\n",
    "\n",
    "with np.printoptions(precision=4, suppress=True):\n",
    "    # print(sim_fr.M @ sim_fr.B_bar_T @ np.kron(np.eye(n)[0],v1)[:,None])\n",
    "    # print(sim_fr.L_mod @ np.kron(np.eye(n)[0],v1)[:,None])\n",
    "    print(sim_fr.L_mod @ (sim_fr.p_star))\n",
    "    print((sim_fr.L_mod) @ (np.kron(np.eye(n),np.array([[0,-1],[1,0]]))@sim_fr.p_star) )\n",
    "    print((sim_fr.L_mod - l1*np.eye(2*n)) @ \n",
    "           (\n",
    "           0.2*np.kron(np.eye(n),np.array([[0,-1],[1,0]]))@sim_fr.p_star*np.kron(np.ones(n),[1,1j]) \n",
    "           ))\n",
    "           \n",
    "    print((sim_fr.L_mod) @ np.kron(np.eye(n),np.array([[0,hx],[0,0]]))@sim_fr.p_star)\n",
    "    print((sim_fr.L_mod) @ np.kron(np.eye(n),np.array([[0,hx],[0,0]]))@sim_fr.p_star)"
   ]
  },
  {
   "cell_type": "code",
   "execution_count": 84,
   "metadata": {},
   "outputs": [
    {
     "name": "stdout",
     "output_type": "stream",
     "text": [
      "[-0.986+0.j  0.   +0.j  0.   +0.j  0.168+0.j  0.986+0.j -0.   +0.j\n",
      " -0.   +0.j -0.168+0.j]\n",
      "[0.+0.j    0.+0.168j 0.+0.986j 0.-0.j    0.+0.j    0.-0.168j 0.-0.986j\n",
      " 0.-0.j   ]\n"
     ]
    }
   ],
   "source": [
    "V=LA.eig(sim_fr.M @ sim_fr.B_bar_T)[1]\n",
    "\n",
    "with np.printoptions(precision=3, suppress=True):\n",
    "    print(V[:,0]+V[:,1])\n",
    "    print(V[:,0]-V[:,1])"
   ]
  },
  {
   "cell_type": "code",
   "execution_count": 128,
   "metadata": {},
   "outputs": [
    {
     "name": "stdout",
     "output_type": "stream",
     "text": [
      "[[ 0.5 +0.j    0.5 -0.j    0.5 +0.j   -0.5 +0.j   -0.04+0.j   -0.2 +0.13j\n",
      "  -0.2 -0.13j -0.48+0.j  ]\n",
      " [ 0.  -0.j    0.  +0.j   -0.  +0.j   -0.  +0.j    0.5 +0.j   -0.44+0.j\n",
      "  -0.44-0.j    0.13+0.j  ]\n",
      " [ 0.  +0.5j   0.  -0.5j   0.5 +0.j    0.5 +0.j    0.04+0.j   -0.13-0.2j\n",
      "  -0.13+0.2j  -0.48+0.j  ]\n",
      " [ 0.  -0.j    0.  +0.j   -0.  +0.j    0.  +0.j   -0.5 +0.j   -0.  -0.44j\n",
      "  -0.  +0.44j  0.13+0.j  ]\n",
      " [-0.5 +0.j   -0.5 -0.j    0.5 +0.j   -0.5 +0.j   -0.04+0.j    0.2 -0.13j\n",
      "   0.2 +0.13j -0.48+0.j  ]\n",
      " [-0.  +0.j   -0.  -0.j    0.  +0.j   -0.  +0.j    0.5 +0.j    0.44+0.j\n",
      "   0.44-0.j    0.13+0.j  ]\n",
      " [-0.  -0.5j  -0.  +0.5j   0.5 +0.j    0.5 +0.j    0.04+0.j    0.13+0.2j\n",
      "   0.13-0.2j  -0.48+0.j  ]\n",
      " [-0.  -0.j   -0.  +0.j    0.  +0.j    0.  +0.j   -0.5 +0.j    0.  +0.44j\n",
      "   0.  -0.44j  0.13+0.j  ]]\n"
     ]
    }
   ],
   "source": [
    "with np.printoptions(precision=2, suppress=True):\n",
    "    print(LA.eig(sim_fr.L_mod)[1])"
   ]
  },
  {
   "cell_type": "code",
   "execution_count": 123,
   "metadata": {},
   "outputs": [
    {
     "name": "stdout",
     "output_type": "stream",
     "text": [
      "[ 0.+0.1j  0.-0.1j -0.+0.j   1.+0.j   1.+0.j   0.+0.1j  0.-0.1j -0.+0.j ]\n",
      "[[ 0.5+0.j   0.5-0.j ]\n",
      " [ 0. -0.j   0. +0.j ]\n",
      " [ 0. +0.5j  0. -0.5j]\n",
      " [ 0. -0.j   0. +0.j ]\n",
      " [-0.5+0.j  -0.5-0.j ]\n",
      " [-0. +0.j  -0. -0.j ]\n",
      " [-0. -0.5j -0. +0.5j]\n",
      " [-0. -0.j  -0. +0.j ]]\n",
      "[[-0.2 +0.13j -0.2 -0.13j]\n",
      " [-0.44+0.j   -0.44-0.j  ]\n",
      " [-0.13-0.2j  -0.13+0.2j ]\n",
      " [-0.  -0.44j -0.  +0.44j]\n",
      " [ 0.2 -0.13j  0.2 +0.13j]\n",
      " [ 0.44+0.j    0.44-0.j  ]\n",
      " [ 0.13+0.2j   0.13-0.2j ]\n",
      " [ 0.  +0.44j  0.  -0.44j]]\n"
     ]
    }
   ],
   "source": [
    "with np.printoptions(precision=2, suppress=True):\n",
    "    print(LA.eig(sim_fr.L_mod)[0])\n",
    "    print(LA.eig(sim_fr.L_mod)[1][:,0:2])\n",
    "    print(LA.eig(sim_fr.L_mod)[1][:,5:7])"
   ]
  },
  {
   "cell_type": "code",
   "execution_count": 110,
   "metadata": {},
   "outputs": [
    {
     "name": "stdout",
     "output_type": "stream",
     "text": [
      "[[ 0.    -0.j  0.    +0.j -0.    +0.j -0.    +0.j  0.4988+0.j -0.4422+0.j\n",
      "  -0.4422-0.j  0.1305+0.j]]\n"
     ]
    }
   ],
   "source": [
    "with np.printoptions(precision=4, suppress=True):\n",
    "    print(LA.eig(sim_fr.L_mod)[1][1:2])"
   ]
  },
  {
   "cell_type": "code",
   "execution_count": 86,
   "metadata": {},
   "outputs": [
    {
     "data": {
      "text/plain": [
       "array([ 0.70710678, -0.70710678, -0.70710678, -0.70710678, -0.70710678,\n",
       "        0.70710678,  0.70710678,  0.70710678])"
      ]
     },
     "execution_count": 86,
     "metadata": {},
     "output_type": "execute_result"
    }
   ],
   "source": [
    "sim_fr.M @ sim_fr.B_bar_T @ sim_fr.p_star"
   ]
  }
 ],
 "metadata": {
  "kernelspec": {
   "display_name": "Python 3",
   "language": "python",
   "name": "python3"
  },
  "language_info": {
   "codemirror_mode": {
    "name": "ipython",
    "version": 3
   },
   "file_extension": ".py",
   "mimetype": "text/x-python",
   "name": "python",
   "nbconvert_exporter": "python",
   "pygments_lexer": "ipython3",
   "version": "3.11.4"
  }
 },
 "nbformat": 4,
 "nbformat_minor": 2
}
