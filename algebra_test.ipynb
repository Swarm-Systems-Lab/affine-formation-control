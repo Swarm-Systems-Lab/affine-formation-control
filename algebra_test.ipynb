{
 "cells": [
  {
   "cell_type": "code",
   "execution_count": 1,
   "metadata": {},
   "outputs": [
    {
     "name": "stdout",
     "output_type": "stream",
     "text": [
      "Python 3.10.12\n"
     ]
    }
   ],
   "source": [
    "\"\"\"\\\n",
    "# Copyright (C) 2024 Jesús Bautista Villar <jesbauti20@gmail.com>\n",
    "\"\"\"\n",
    "!python --version"
   ]
  },
  {
   "cell_type": "code",
   "execution_count": 3,
   "metadata": {},
   "outputs": [],
   "source": [
    "import os\n",
    "import numpy as np\n",
    "from numpy import linalg as LA\n",
    "\n",
    "# plotting\n",
    "import matplotlib.pyplot as plt\n",
    "from seaborn import color_palette\n",
    "\n",
    "# animations\n",
    "from matplotlib.animation import FuncAnimation\n",
    "from IPython.display import HTML\n",
    "import matplotlib.patches as patches\n",
    "\n",
    "# affine_formations tools\n",
    "from sf_complex import sim_frame_complex\n",
    "from sf_affine import sim_frame_affine\n",
    "\n",
    "# happy pdf for a happy submission without \n",
    "# complains in paperplaza, arxiv, etc\n",
    "import matplotlib\n",
    "\n",
    "font = {'size' : 16}\n",
    "matplotlib.rc('font', **font)"
   ]
  },
  {
   "cell_type": "markdown",
   "metadata": {},
   "source": [
    "## Diagonalization of A"
   ]
  },
  {
   "cell_type": "code",
   "execution_count": 70,
   "metadata": {},
   "outputs": [
    {
     "name": "stdout",
     "output_type": "stream",
     "text": [
      "A =\n",
      " [[2. 0.]\n",
      " [0. 2.]] \n",
      "\n",
      "------- Predicted\n",
      "lambda_1 = 2.000+0.000j --  [1 0]\n",
      "lambda_2 = 2.000+0.000j --  [0 1]\n",
      "------- Computed\n",
      "lambdas:  [2. 2.]\n",
      "v1 =  [1. 0.]\n",
      "v2 =  [0. 1.]\n"
     ]
    }
   ],
   "source": [
    "a = 2\n",
    "omega = 1\n",
    "hx = 1\n",
    "hy = -1\n",
    "\n",
    "A = a*np.eye(2) + omega*np.array([[0,-1],[1,0]]) + np.array([[0,hx],[hy,0]])\n",
    "print(\"A =\\n\",A,\"\\n\")\n",
    "\n",
    "# Predicted eigen values and eigenvectors\n",
    "lambda1 = a + np.sqrt((hx - omega)*(hy + omega) + 0j)\n",
    "lambda2 = a - np.sqrt((hx - omega)*(hy + omega) + 0j)\n",
    "\n",
    "if hx-omega == 0 and hy+omega == 0: # The matrix is already diagonal\n",
    "    v1 = np.array([1, 0])\n",
    "    v2 = np.array([0, 1])\n",
    "elif hx-omega != 0 and hy+omega !=0: # Diagonalizable\n",
    "    if abs(hy + hx) > 0:\n",
    "        denom = np.sqrt(hy + hx + 0j)\n",
    "    else:\n",
    "        denom = 1\n",
    "    v1 = np.array([np.sqrt(hx - omega + 0j),  np.sqrt(hy + omega + 0j)])/denom\n",
    "    v2 = np.array([np.sqrt(hx - omega + 0j), -np.sqrt(hy + omega + 0j)])/denom\n",
    "elif hx-omega != 0: # Not diagonalizable (we need 2 generalized eigenvectors)\n",
    "    v1 = np.array([1, 0])\n",
    "    v2 = np.array([0, 1/(hx-omega)])\n",
    "else: # (hy+omega != 0) Not diagonalizable (we need 2 generalized eigenvectors)\n",
    "    v1 = np.array([0, 1])\n",
    "    v2 = np.array([1/(hy+omega), 0])\n",
    "\n",
    "V = np.array([v1,v2]).T\n",
    "\n",
    "print(\"------- Predicted\")\n",
    "with np.printoptions(precision=3, suppress=True):\n",
    "    print(\"lambda_1 = {:.3f} -- \".format(lambda1), v1)\n",
    "    print(\"lambda_2 = {:.3f} -- \".format(lambda2), v2)\n",
    "    #print(\"Diagonalization check (A - VDV^-1):\\n\", A - V@np.array([[lambda1,0],[0,lambda2]])@LA.inv(V))\n",
    "# print((A - lambda1*np.eye(2))@v1[:,None])\n",
    "# print((A - lambda2*np.eye(2))@v2[:,None])\n",
    "\n",
    "# Comparing with the computed eigen values and eigenvectors\n",
    "print(\"------- Computed\")\n",
    "lambdas, vs = LA.eig(A)\n",
    "with np.printoptions(precision=3, suppress=True):\n",
    "    print(\"lambdas: \", lambdas)\n",
    "    print(\"v1 = \", vs[:,0])\n",
    "    print(\"v2 = \", vs[:,1])"
   ]
  },
  {
   "cell_type": "markdown",
   "metadata": {},
   "source": [
    "### Differential equation \n",
    "$$\\dot x(t) = A x(t) \\quad \\Longrightarrow \\quad x(t) = e^{At}x(0)$$"
   ]
  },
  {
   "cell_type": "code",
   "execution_count": 78,
   "metadata": {},
   "outputs": [
    {
     "data": {
      "image/png": "[encoded data removed]",
      "text/plain": [
       "<Figure size 640x480 with 1 Axes>"
      ]
     },
     "metadata": {},
     "output_type": "display_data"
    }
   ],
   "source": [
    "## Analytical solution\n",
    "tf = 2\n",
    "t = np.linspace(0,tf,1000)[:,None]\n",
    "v1 = v1.reshape(2,1)\n",
    "v2 = v2.reshape(2,1)\n",
    "\n",
    "fig, ax = plt.subplots()\n",
    "\n",
    "if hx-omega == 0 and hy+omega == 0:\n",
    "    c_list = ((2,1),(-1,0),(2,2),(-2,2))\n",
    "    for c_pair in c_list:\n",
    "        c1 = c_pair[0]\n",
    "        c2 = c_pair[1]\n",
    "        \n",
    "        x = x = np.exp(a*t)*(c1*v1.T + c2*v2.T)\n",
    "        ax.plot(x[:,0], x[:,1])\n",
    "        \n",
    "elif hx-omega != 0 and hy+omega !=0:\n",
    "    c_list = ((10,1),(-1,0),(2,2),(-2,2))\n",
    "    for c_pair in c_list:\n",
    "        c1 = c_pair[0]\n",
    "        c2 = c_pair[1]\n",
    "\n",
    "        x =  c1*np.squeeze(np.exp(lambda1.real*t))*(np.real(v1)*np.cos(lambda1.imag*t).T + \\\n",
    "                                                    np.imag(v1)*np.sin(lambda1.imag*t).T)  \\\n",
    "            +c2*np.squeeze(np.exp(lambda2.real*t))*(np.real(v2)*np.cos(lambda2.imag*t).T + \\\n",
    "                                                    np.imag(v2)*np.sin(lambda2.imag*t).T)\n",
    "        ax.plot(x[0,:], x[1,:])\n",
    "\n",
    "elif hx-omega != 0:\n",
    "    c_list = ((-1,-1),(-1,2),(1,0.5),(4,-4))\n",
    "    for c_pair in c_list:\n",
    "        c1 = c_pair[0]\n",
    "        c2 = c_pair[1]\n",
    "\n",
    "        x =  c1*np.exp(a*t)*v1.T + c2*np.exp(a*t)*(v2.T + t*v1.T)\n",
    "\n",
    "        ax.plot(x[:,0], x[:,1])\n",
    "\n",
    "ax.set_xlim([-5,5])\n",
    "ax.set_ylim([-5,5])\n",
    "ax.grid(True)\n",
    "plt.show()"
   ]
  },
  {
   "cell_type": "code",
   "execution_count": 82,
   "metadata": {},
   "outputs": [
    {
     "data": {
      "image/png": "[encoded data removed]",
      "text/plain": [
       "<Figure size 640x480 with 1 Axes>"
      ]
     },
     "metadata": {},
     "output_type": "display_data"
    }
   ],
   "source": [
    "## Euler integration\n",
    "tf = 2\n",
    "dt = tf/1000\n",
    "its = int(tf/dt)\n",
    "\n",
    "fig, ax = plt.subplots()\n",
    "\n",
    "if hx-omega == 0 and hy+omega == 0:\n",
    "    x0_list = [[2,1.1], [-1,0], [2,2], [-2,2]]\n",
    "elif hx-omega != 0 and hy+omega !=0:\n",
    "    x0_list = [[1.5,-1], [-1.5,-1], [2,1], [-3,1]]\n",
    "elif hx-omega != 0:\n",
    "    x0_list = [[-1,-0.5], [-1,1], [1,0.25], [4,-2]]\n",
    "\n",
    "for x0 in x0_list:\n",
    "    x_data = []\n",
    "    x = np.array(x0)[:,None]\n",
    "    for it in range(its):\n",
    "        x_data.append(x)\n",
    "        x = x + A@x*dt\n",
    "    x_data = np.squeeze(np.array(x_data)).T\n",
    "    ax.plot(x_data[0,:], x_data[1,:])\n",
    "    ax.plot(x_data[0,0], x_data[1,0], \"kx\")\n",
    "\n",
    "ax.set_xlim([-5,5])\n",
    "ax.set_ylim([-5,5])\n",
    "ax.grid(True)\n",
    "plt.show()"
   ]
  },
  {
   "cell_type": "markdown",
   "metadata": {},
   "source": [
    "## Diagonalization of $(I_n \\otimes A)$"
   ]
  },
  {
   "cell_type": "code",
   "execution_count": 55,
   "metadata": {},
   "outputs": [
    {
     "data": {
      "text/plain": [
       "(array([1., 1., 1., 1.]),\n",
       " array([[1., 0., 0., 0.],\n",
       "        [0., 1., 0., 0.],\n",
       "        [0., 0., 1., 0.],\n",
       "        [0., 0., 0., 1.]]))"
      ]
     },
     "execution_count": 55,
     "metadata": {},
     "output_type": "execute_result"
    }
   ],
   "source": [
    "LA.eig(np.eye(4))"
   ]
  },
  {
   "cell_type": "code",
   "execution_count": 50,
   "metadata": {},
   "outputs": [
    {
     "name": "stdout",
     "output_type": "stream",
     "text": [
      "------- Predicted\n",
      "lambda_1 = 1.000+1.732j --  [0.   +0.707j 1.225+0.j   ]\n",
      "lambda_2 = 1.000-1.732j --  [ 0.   +0.707j -1.225+0.j   ]\n",
      "Diagonalization check (A - VDV^-1):\n",
      " [[ 0.+0.j -0.+0.j]\n",
      " [ 0.+0.j  0.+0.j]]\n",
      "------- Computed\n",
      "lambdas:  [1.+1.732j 1.-1.732j 1.+1.732j 1.-1.732j]\n",
      "V = \n",
      " [[0.   +0.5j 0.   -0.5j 0.   +0.j  0.   -0.j ]\n",
      " [0.866+0.j  0.866-0.j  0.   +0.j  0.   -0.j ]\n",
      " [0.   +0.j  0.   -0.j  0.   +0.5j 0.   -0.5j]\n",
      " [0.   +0.j  0.   -0.j  0.866+0.j  0.866-0.j ]]\n"
     ]
    }
   ],
   "source": [
    "m = 2\n",
    "A_bar = np.kron(np.eye(m),A)\n",
    "\n",
    "# Predicted eigen values and eigenvectors\n",
    "lambda1 = a + np.sqrt((hx - omega)*(hy + omega) + 0j)\n",
    "lambda2 = a - np.sqrt((hx - omega)*(hy + omega) + 0j)\n",
    "\n",
    "denom = np.sqrt(hy + omega + hx - omega + 0j)\n",
    "v1 = np.array([np.sqrt(hx - omega + 0j),  np.sqrt(hy + omega + 0j)])/denom\n",
    "v2 = np.array([np.sqrt(hx - omega + 0j), -np.sqrt(hy + omega + 0j)])/denom\n",
    "\n",
    "e1 = np.array([1,0])\n",
    "e2 = np.array([0,1])\n",
    "\n",
    "u1 = np.kron(np.ones(2),v1)\n",
    "u2 = np.kron(np.ones(2),v2)\n",
    "\n",
    "print(\"------- Predicted\")\n",
    "with np.printoptions(precision=3, suppress=True):\n",
    "    print(\"u_1 = {:.3f} -- \".format(lambda1), v1)\n",
    "    print(\"u_2 = {:.3f} -- \".format(lambda2), v2)\n",
    "\n",
    "# Comparing with the computed eigen values and eigenvectors\n",
    "print(\"------- Computed\")\n",
    "lambdas_c, V_c = LA.eig(A_bar)\n",
    "with np.printoptions(precision=3, suppress=True):\n",
    "    print(\"lambdas: \", lambdas_c)\n",
    "    print(\"V = \\n\", V_c)"
   ]
  }
 ],
 "metadata": {
  "kernelspec": {
   "display_name": "Python 3",
   "language": "python",
   "name": "python3"
  },
  "language_info": {
   "codemirror_mode": {
    "name": "ipython",
    "version": 3
   },
   "file_extension": ".py",
   "mimetype": "text/x-python",
   "name": "python",
   "nbconvert_exporter": "python",
   "pygments_lexer": "ipython3",
   "version": "3.11.4"
  }
 },
 "nbformat": 4,
 "nbformat_minor": 2
}
